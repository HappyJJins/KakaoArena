{
  "nbformat": 4,
  "nbformat_minor": 0,
  "metadata": {
    "colab": {
      "name": "TEST02.ipynb",
      "provenance": [],
      "private_outputs": true,
      "collapsed_sections": [],
      "machine_shape": "hm",
      "include_colab_link": true
    },
    "kernelspec": {
      "name": "python3",
      "display_name": "Python 3"
    },
    "accelerator": "TPU"
  },
  "cells": [
    {
      "cell_type": "markdown",
      "metadata": {
        "id": "view-in-github",
        "colab_type": "text"
      },
      "source": [
        "<a href=\"https://colab.research.google.com/github/HappyJJins/KakaoArena/blob/master/TEST02.ipynb\" target=\"_parent\"><img src=\"https://colab.research.google.com/assets/colab-badge.svg\" alt=\"Open In Colab\"/></a>"
      ]
    },
    {
      "cell_type": "code",
      "metadata": {
        "id": "ju-H50bcCC8_",
        "colab_type": "code",
        "colab": {}
      },
      "source": [
        "import os, sys\n",
        "from google.colab import drive, auth\n",
        "\n",
        "ROOT = '/content/drive'\n",
        "drive.mount(ROOT)\n",
        "\n",
        "my_path = '/content/notebooks'\n",
        "# Colab Notebooks 안에 my_env 폴더에 패키지 저장\n",
        "os.symlink('/content/drive/My Drive/Colab Notebooks/my_env', my_path)\n",
        "sys.path.insert(0, my_path)"
      ],
      "execution_count": null,
      "outputs": []
    },
    {
      "cell_type": "code",
      "metadata": {
        "id": "h3HfBHdpoTdz",
        "colab_type": "code",
        "colab": {}
      },
      "source": [
        "!git clone https://github.com/HappyJJins/Jeong-Hajin.git"
      ],
      "execution_count": null,
      "outputs": []
    },
    {
      "cell_type": "code",
      "metadata": {
        "id": "UMV-Th-GykVl",
        "colab_type": "code",
        "colab": {}
      },
      "source": [
        "!ls -ltr"
      ],
      "execution_count": null,
      "outputs": []
    },
    {
      "cell_type": "code",
      "metadata": {
        "id": "5XRtTO3CCPQX",
        "colab_type": "code",
        "colab": {}
      },
      "source": [
        "!pip install scikit-surprise\n",
        "%matplotlib inline\n",
        "import pandas as pd\n",
        "import numpy as np\n",
        "import matplotlib.pyplot as plt\n",
        "import seaborn as sns\n",
        "from scipy import stats\n",
        "from ast import literal_eval\n",
        "from sklearn.feature_extraction.text import TfidfVectorizer, CountVectorizer\n",
        "from sklearn.metrics.pairwise import linear_kernel, cosine_similarity\n",
        "from nltk.stem.snowball import SnowballStemmer\n",
        "from nltk.stem.wordnet import WordNetLemmatizer\n",
        "from nltk.corpus import wordnet\n",
        "from surprise import Reader, Dataset, SVD, accuracy\n",
        "from surprise.model_selection import cross_validate\n",
        "from surprise.model_selection import KFold\n",
        "from wordcloud import WordCloud\n",
        "font_path = '/content/drive/My Drive/Colab Notebooks/카카오X멜론 공모전/NanumGothic.ttf'\n",
        "\n",
        "import warnings; warnings.simplefilter('ignore')"
      ],
      "execution_count": null,
      "outputs": []
    },
    {
      "cell_type": "code",
      "metadata": {
        "id": "JL2OJxp9AUUZ",
        "colab_type": "code",
        "colab": {}
      },
      "source": [
        "from datetime import timedelta, datetime\n",
        "import glob\n",
        "from itertools import chain\n",
        "import json\n",
        "import os\n",
        "import re\n",
        "\n",
        "import numpy as np\n",
        "import pandas as pd\n",
        "from wordcloud import WordCloud\n",
        "import nltk\n",
        "from nltk.corpus import stopwords\n",
        "from konlpy.tag import Twitter\n",
        "from collections import Counter\n",
        "from sklearn.feature_extraction.text import TfidfVectorizer\n",
        "from sklearn.feature_extraction.text import CountVectorizer\n",
        "\n",
        "from pandas.plotting import register_matplotlib_converters\n",
        "import seaborn as sns\n",
        "import matplotlib.pyplot as plt\n",
        "import matplotlib as mpl\n",
        "import matplotlib.pyplot as plt\n",
        "import matplotlib.font_manager as fm"
      ],
      "execution_count": null,
      "outputs": []
    },
    {
      "cell_type": "code",
      "metadata": {
        "id": "e3mUITnYCL8i",
        "colab_type": "code",
        "colab": {}
      },
      "source": [
        "# playlist에 수록된 tags와 songs의 일부분만 들어있는 val파일\n",
        "# algorithm test용 파일\n",
        "val = pd.read_json('/content/drive/My Drive/Colab Notebooks/카카오X멜론 공모전/data/val.json', typ='frame')\n",
        "val.info()"
      ],
      "execution_count": null,
      "outputs": []
    },
    {
      "cell_type": "code",
      "metadata": {
        "id": "9qQCe7ivq_aQ",
        "colab_type": "code",
        "colab": {}
      },
      "source": [
        "val.head()"
      ],
      "execution_count": null,
      "outputs": []
    },
    {
      "cell_type": "code",
      "metadata": {
        "id": "DlVYiiewDj2y",
        "colab_type": "code",
        "colab": {}
      },
      "source": [
        "# playlist별 수록된 모든 tags, songs가 들어있는 train파일\n",
        "train = pd.read_json('/content/drive/My Drive/Colab Notebooks/카카오X멜론 공모전/data/train.json', typ = 'frame')\n",
        "train.info()"
      ],
      "execution_count": null,
      "outputs": []
    },
    {
      "cell_type": "code",
      "metadata": {
        "id": "4_9Pz-ZnrCc5",
        "colab_type": "code",
        "colab": {}
      },
      "source": [
        "train.head()"
      ],
      "execution_count": null,
      "outputs": []
    },
    {
      "cell_type": "code",
      "metadata": {
        "id": "nEXQKYJ3EFaI",
        "colab_type": "code",
        "colab": {}
      },
      "source": [
        "# melon에 있는 모든 songs 정보가 담긴 song_meta파일\n",
        "song_meta = pd.read_json('/content/drive/My Drive/Colab Notebooks/카카오X멜론 공모전/data/song_meta.json', typ = 'frame')\n",
        "song_meta.info()"
      ],
      "execution_count": null,
      "outputs": []
    },
    {
      "cell_type": "code",
      "metadata": {
        "id": "Byvlz1P8ELQJ",
        "colab_type": "code",
        "colab": {}
      },
      "source": [
        "song_meta.head()"
      ],
      "execution_count": null,
      "outputs": []
    },
    {
      "cell_type": "code",
      "metadata": {
        "id": "Z3sxD8rzjblu",
        "colab_type": "code",
        "colab": {}
      },
      "source": [
        "# playlist id와 수록된 songs 추출\n",
        "# playlist id별 수록된 song list 의 형태\n",
        "plylst_song_map = train[['id', 'songs']]\n",
        "\n",
        "# unnest songs\n",
        "plylst_song_map_unnest = np.dstack(\n",
        "    (\n",
        "        # playlist에 수록된 song 갯수만큼 playlist id 반복\n",
        "        # playlist id와 수록된 song을 1:1 매칭\n",
        "        np.repeat(plylst_song_map.id.values, list(map(len, plylst_song_map.songs))),\n",
        "        np.concatenate(plylst_song_map.songs.values)\n",
        "    )\n",
        ")\n",
        "\n",
        "# unnested 데이터프레임 생성 : plylst_song_map\n",
        "plylst_song_map = pd.DataFrame(data = plylst_song_map_unnest[0], columns = plylst_song_map.columns)\n",
        "plylst_song_map['id'] = plylst_song_map['id'].astype(str)\n",
        "plylst_song_map['songs'] = plylst_song_map['songs'].astype(str)\n",
        "\n",
        "# unnest 객체 제거\n",
        "del plylst_song_map_unnest"
      ],
      "execution_count": null,
      "outputs": []
    },
    {
      "cell_type": "code",
      "metadata": {
        "id": "pd3ta1I8rX6I",
        "colab_type": "code",
        "colab": {}
      },
      "source": [
        "plylst_song_map"
      ],
      "execution_count": null,
      "outputs": []
    },
    {
      "cell_type": "code",
      "metadata": {
        "id": "5-ClAibN_Gus",
        "colab_type": "code",
        "colab": {}
      },
      "source": [
        "# song id와 대분류 장르코드 리스트(song_gn_gnr_basket) 추출\n",
        "song_gnr_map = song_meta.loc[:, ['id', 'song_gn_gnr_basket']]\n",
        "\n",
        "# unnest song_gn_gnr_basket\n",
        "song_gnr_map_unnest = np.dstack(\n",
        "    (\n",
        "        # song id를 매핑된 genre수 만큼 반복\n",
        "        # song id와 genre 1:1 매칭\n",
        "        np.repeat(song_gnr_map.id.values, list(map(len, song_gnr_map.song_gn_gnr_basket))), \n",
        "        np.concatenate(song_gnr_map.song_gn_gnr_basket.values)\n",
        "    )\n",
        ")\n",
        "\n",
        "# unnested 데이터프레임 생성 : song_gnr_map\n",
        "song_gnr_map = pd.DataFrame(data = song_gnr_map_unnest[0], columns = song_gnr_map.columns)\n",
        "song_gnr_map['id'] = song_gnr_map['id'].astype(str)\n",
        "song_gnr_map.rename(columns = {'id' : 'song_id', 'song_gn_gnr_basket' : 'gnr_code'}, inplace = True)\n",
        "\n",
        "# unnest 객체 제거\n",
        "del song_gnr_map_unnest"
      ],
      "execution_count": null,
      "outputs": []
    },
    {
      "cell_type": "code",
      "metadata": {
        "id": "_tfDBjfBudoF",
        "colab_type": "code",
        "colab": {}
      },
      "source": [
        "song_gnr_map.head()"
      ],
      "execution_count": null,
      "outputs": []
    },
    {
      "cell_type": "code",
      "metadata": {
        "id": "AxmTmodZi-Ip",
        "colab_type": "code",
        "colab": {}
      },
      "source": [
        "# playlist id와 매핑된 tags 추출\n",
        "plylst_tag_map = train[['id', 'tags']]\n",
        "\n",
        "# unnest tags\n",
        "plylst_tag_map_unnest = np.dstack(\n",
        "    (\n",
        "        # playlist id를 매핑된 tags 수 만큼 반복\n",
        "        # playlist id와 tag 1:1 매칭\n",
        "        np.repeat(plylst_tag_map.id.values, list(map(len, plylst_tag_map.tags))), \n",
        "        np.concatenate(plylst_tag_map.tags.values)\n",
        "    )\n",
        ")\n",
        "\n",
        "# unnested 데이터프레임 생성 : plylst_tag_map\n",
        "plylst_tag_map = pd.DataFrame(data = plylst_tag_map_unnest[0], columns = plylst_tag_map.columns)\n",
        "plylst_tag_map['id'] = plylst_tag_map['id'].astype(str)\n",
        "\n",
        "# unnest 객체 제거\n",
        "del plylst_tag_map_unnest"
      ],
      "execution_count": null,
      "outputs": []
    },
    {
      "cell_type": "code",
      "metadata": {
        "id": "JPhBMayEvgIa",
        "colab_type": "code",
        "colab": {}
      },
      "source": [
        "plylst_tag_map.head()"
      ],
      "execution_count": null,
      "outputs": []
    },
    {
      "cell_type": "code",
      "metadata": {
        "id": "QS9F0i2NJPum",
        "colab_type": "code",
        "colab": {}
      },
      "source": [
        "# 플레이리스트-곡 테이블 plylst_song_map + 플레이리스트-태그 테이블 plylst_tag_map join 테이블 생성 : plylst_song_tag_map\n",
        "plylst_song_tag_map = pd.merge(plylst_song_map, plylst_tag_map, how = 'left', on = 'id')\n",
        "\n",
        "# 1번 테이블 plylst_song_tag_map + 곡 장르 테이블 song_gnr_map join\n",
        "# playlist_id + song_id + tag + genre -> 1:1:1:1 매칭\n",
        "plylst_song_tag_map = pd.merge(plylst_song_tag_map, song_gnr_map, how = 'left', left_on = 'songs', right_on = 'song_id')\n",
        "plylst_song_tag_map.head()"
      ],
      "execution_count": null,
      "outputs": []
    },
    {
      "cell_type": "code",
      "metadata": {
        "id": "sgkazfyHiQpp",
        "colab_type": "code",
        "colab": {}
      },
      "source": [
        "# 태그별 매핑된 장르 리스트\n",
        "tag_gnr = pd.DataFrame()\n",
        "tag_gnr['gnr_code'] = plylst_song_tag_map.groupby('tags').gnr_code.unique()\n",
        "tag_gnr['gnr_code'] = tag_gnr['gnr_code'].apply(lambda x: x.tolist())\n",
        "tag_gnr.reset_index(level=['tags'], inplace = True)\n",
        "tag_gnr.head()"
      ],
      "execution_count": null,
      "outputs": []
    },
    {
      "cell_type": "code",
      "metadata": {
        "id": "5FuZKc96mc7O",
        "colab_type": "code",
        "colab": {}
      },
      "source": [
        "# test용으로 val파일을 복제한 val_train 파일 생성\n",
        "val_train = val\n",
        "# song_id와 plylst_Id type을 int에서 str으로 변환\n",
        "val_train['songs'] = val_train['songs'].apply(lambda x: list(map(str, x)))\n",
        "val_train['id'] = val_train['id'].astype(str)"
      ],
      "execution_count": null,
      "outputs": []
    },
    {
      "cell_type": "code",
      "metadata": {
        "id": "_XIqrMJMa-bR",
        "colab_type": "code",
        "colab": {}
      },
      "source": [
        "# bad algorithm code. 추후 수정 필요\n",
        "def test_algo(id):\n",
        "  # 입력된 playlist_id에 매핑된 tags와 songs list 저장\n",
        "  tags = val_train[val_train['id'] == id]['tags'].tolist()[0]\n",
        "  songs = val_train[val_train['id'] == id]['songs'].tolist()[0]\n",
        "\n",
        "  # 매핑된 tags와 songs의 장르 저장\n",
        "  tags_gnr = list(map(lambda x: tag_gnr[tag_gnr['tags'] == x]['gnr_code'].tolist()[0], tags))\n",
        "  songs_gnr = list(map(lambda x: song_gnr_map[song_gnr_map['song_id'] == x]['gnr_code'].tolist()[0], songs))\n",
        "\n",
        "  # 중복되는 genre 제거\n",
        "  test = []\n",
        "  for x in tags_gnr:\n",
        "    test +=x\n",
        "  test += list(set(songs_gnr))\n",
        "  gnr = list(set(test))\n",
        "  return gnr"
      ],
      "execution_count": null,
      "outputs": []
    },
    {
      "cell_type": "code",
      "metadata": {
        "id": "iMONyK6720p0",
        "colab_type": "code",
        "colab": {}
      },
      "source": [
        "test_algo('122127')"
      ],
      "execution_count": null,
      "outputs": []
    }
  ]
}