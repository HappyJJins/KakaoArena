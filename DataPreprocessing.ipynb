{
  "nbformat": 4,
  "nbformat_minor": 0,
  "metadata": {
    "colab": {
      "name": "DataPreprocessing.ipynb",
      "provenance": [],
      "collapsed_sections": [],
      "machine_shape": "hm",
      "authorship_tag": "ABX9TyN2ta13JGHbQ4WEYQR9wpWn",
      "include_colab_link": true
    },
    "kernelspec": {
      "name": "python3",
      "display_name": "Python 3"
    }
  },
  "cells": [
    {
      "cell_type": "markdown",
      "metadata": {
        "id": "view-in-github",
        "colab_type": "text"
      },
      "source": [
        "<a href=\"https://colab.research.google.com/github/HappyJJins/KakaoArena/blob/master/DataPreprocessing.ipynb\" target=\"_parent\"><img src=\"https://colab.research.google.com/assets/colab-badge.svg\" alt=\"Open In Colab\"/></a>"
      ]
    },
    {
      "cell_type": "code",
      "metadata": {
        "id": "nMcaCPo1Ndor",
        "colab_type": "code",
        "colab": {}
      },
      "source": [
        "import os, sys\n",
        "from google.colab import drive, auth\n",
        "\n",
        "ROOT = '/content/drive'\n",
        "drive.mount(ROOT)\n",
        "\n",
        "my_path = '/content/notebooks'\n",
        "# Colab Notebooks 안에 my_env 폴더에 패키지 저장\n",
        "os.symlink('/content/drive/My Drive/Colab Notebooks/my_env', my_path)\n",
        "sys.path.insert(0, my_path)"
      ],
      "execution_count": null,
      "outputs": []
    },
    {
      "cell_type": "code",
      "metadata": {
        "id": "5Fy7HXlmUPbS",
        "colab_type": "code",
        "colab": {}
      },
      "source": [
        "%matplotlib inline\n",
        "import pandas as pd\n",
        "import numpy as np\n",
        "import re\n",
        "import json\n",
        "font_path = '/content/drive/My Drive/Colab Notebooks/카카오X멜론 공모전/NanumGothic.ttf'\n",
        "\n",
        "import warnings; warnings.simplefilter('ignore')"
      ],
      "execution_count": 36,
      "outputs": []
    },
    {
      "cell_type": "code",
      "metadata": {
        "id": "ZeHBov8SsMWx",
        "colab_type": "code",
        "colab": {
          "base_uri": "https://localhost:8080/",
          "height": 107
        },
        "outputId": "d4a9b9f6-6741-4c76-ac0d-0a72fae2cf6e"
      },
      "source": [
        "!pip install xlsxwriter"
      ],
      "execution_count": null,
      "outputs": [
        {
          "output_type": "stream",
          "text": [
            "Collecting xlsxwriter\n",
            "\u001b[?25l  Downloading https://files.pythonhosted.org/packages/c8/a2/e5f28b67b7d883c9a6585c0ef32b4bb002bff0292b3008f3d6d3fc7eee59/XlsxWriter-1.2.9-py2.py3-none-any.whl (141kB)\n",
            "\r\u001b[K     |██▎                             | 10kB 21.1MB/s eta 0:00:01\r\u001b[K     |████▋                           | 20kB 1.7MB/s eta 0:00:01\r\u001b[K     |███████                         | 30kB 2.3MB/s eta 0:00:01\r\u001b[K     |█████████▎                      | 40kB 2.6MB/s eta 0:00:01\r\u001b[K     |███████████▋                    | 51kB 2.0MB/s eta 0:00:01\r\u001b[K     |█████████████▉                  | 61kB 2.2MB/s eta 0:00:01\r\u001b[K     |████████████████▏               | 71kB 2.4MB/s eta 0:00:01\r\u001b[K     |██████████████████▌             | 81kB 2.7MB/s eta 0:00:01\r\u001b[K     |████████████████████▉           | 92kB 2.9MB/s eta 0:00:01\r\u001b[K     |███████████████████████▏        | 102kB 2.8MB/s eta 0:00:01\r\u001b[K     |█████████████████████████▌      | 112kB 2.8MB/s eta 0:00:01\r\u001b[K     |███████████████████████████▊    | 122kB 2.8MB/s eta 0:00:01\r\u001b[K     |██████████████████████████████  | 133kB 2.8MB/s eta 0:00:01\r\u001b[K     |████████████████████████████████| 143kB 2.8MB/s \n",
            "\u001b[?25hInstalling collected packages: xlsxwriter\n",
            "Successfully installed xlsxwriter-1.2.9\n"
          ],
          "name": "stdout"
        }
      ]
    },
    {
      "cell_type": "code",
      "metadata": {
        "id": "HuNdQGkFmBEd",
        "colab_type": "code",
        "colab": {}
      },
      "source": [
        "genre_gn_all = pd.read_json('/content/drive/My Drive/Colab Notebooks/카카오X멜론 공모전/data/genre_gn_all.json', typ = 'series')\n",
        "genre_gn_all = pd.DataFrame(genre_gn_all, columns = ['gnr_name']).reset_index().rename(columns = {'index' : 'gnr_code'})\n",
        "gnr_code = genre_gn_all[genre_gn_all['gnr_code'].str[-2:] == '00']"
      ],
      "execution_count": null,
      "outputs": []
    },
    {
      "cell_type": "code",
      "metadata": {
        "id": "BJP2Puc2ovgz",
        "colab_type": "code",
        "colab": {}
      },
      "source": [
        "song_meta = pd.read_json('/content/drive/My Drive/Colab Notebooks/카카오X멜론 공모전/data/song_meta.json', typ = 'frame')\n",
        "train = pd.read_json('/content/drive/My Drive/Colab Notebooks/카카오X멜론 공모전/data/train.json', typ = 'frame')"
      ],
      "execution_count": null,
      "outputs": []
    },
    {
      "cell_type": "code",
      "metadata": {
        "id": "HayX13Oio884",
        "colab_type": "code",
        "colab": {}
      },
      "source": [
        "# 곡 아이디(id)와 대분류 장르코드 리스트(song_gn_gnr_basket) 추출\n",
        "song_gnr_map = song_meta.loc[:, ['id', 'song_gn_gnr_basket']]\n",
        "\n",
        "# unnest song_gn_gnr_basket, 중첩된 songs in basket을 풀어낸다\n",
        "song_gnr_map_unnest = np.dstack(\n",
        "    (\n",
        "        np.repeat(song_gnr_map.id.values, list(map(len, song_gnr_map.song_gn_gnr_basket))), \n",
        "        np.concatenate(song_gnr_map.song_gn_gnr_basket.values) #배열결합\n",
        "    )\n",
        ")\n",
        "\n",
        "# unnested 데이터프레임 생성 : song_gnr_map\n",
        "song_gnr_map = pd.DataFrame(data = song_gnr_map_unnest[0], columns = song_gnr_map.columns)\n",
        "song_gnr_map['id'] = song_gnr_map['id'].astype(str)\n",
        "song_gnr_map.rename(columns = {'id' : 'song_id', 'song_gn_gnr_basket' : 'gnr_code'}, inplace = True)\n",
        "\n",
        "# unnest 객체 제거\n",
        "del song_gnr_map_unnest"
      ],
      "execution_count": null,
      "outputs": []
    },
    {
      "cell_type": "code",
      "metadata": {
        "id": "EMF6KvT_pG2b",
        "colab_type": "code",
        "colab": {}
      },
      "source": [
        "# 플레이리스트 아이디(id)와 수록곡(songs) 추출\n",
        "plylst_song_map = train[['id', 'songs']]\n",
        "# unnest songs\n",
        "plylst_song_map_unnest = np.dstack(\n",
        "    (\n",
        "        np.repeat(plylst_song_map.id.values, list(map(len, plylst_song_map.songs))), \n",
        "        np.concatenate(plylst_song_map.songs.values)\n",
        "    )\n",
        ")\n",
        "\n",
        "# unnested 데이터프레임 생성 : plylst_song_map\n",
        "plylst_song_map = pd.DataFrame(data = plylst_song_map_unnest[0], columns = plylst_song_map.columns)\n",
        "plylst_song_map['id'] = plylst_song_map['id'].astype(str)\n",
        "plylst_song_map['songs'] = plylst_song_map['songs'].astype(str)\n",
        "\n",
        "# unnest 객체 제거\n",
        "del plylst_song_map_unnest"
      ],
      "execution_count": null,
      "outputs": []
    },
    {
      "cell_type": "code",
      "metadata": {
        "id": "xVxPbzBKpJWA",
        "colab_type": "code",
        "colab": {}
      },
      "source": [
        "# 1-1. join 목적으로 곡 아이디 integer to string 변환\n",
        "plylst_song_map['songs'] = plylst_song_map['songs'].astype(str)\n",
        "\n",
        "# 1-2. 플레이리스트-곡 테이블 plylst_song_map + 곡-장르 테이블 song_gnr_map join\n",
        "plylst_song_gnr_map = pd.merge(plylst_song_map, song_gnr_map, how = 'left', left_on = 'songs', right_on = 'song_id')\n",
        "\n",
        "song_plylst_map = plylst_song_map.sort_values('songs').reset_index()[['songs','id']]"
      ],
      "execution_count": null,
      "outputs": []
    },
    {
      "cell_type": "code",
      "metadata": {
        "id": "la1NOPsppXJ2",
        "colab_type": "code",
        "colab": {
          "base_uri": "https://localhost:8080/",
          "height": 419
        },
        "outputId": "6f367f16-f089-441e-bf19-255c1006de51"
      },
      "source": [
        "df = train.loc[:,['id', 'plylst_title', 'tags', 'like_cnt']]\n",
        "df['id'] = df['id'].astype('str')\n",
        "df"
      ],
      "execution_count": null,
      "outputs": [
        {
          "output_type": "execute_result",
          "data": {
            "text/html": [
              "<div>\n",
              "<style scoped>\n",
              "    .dataframe tbody tr th:only-of-type {\n",
              "        vertical-align: middle;\n",
              "    }\n",
              "\n",
              "    .dataframe tbody tr th {\n",
              "        vertical-align: top;\n",
              "    }\n",
              "\n",
              "    .dataframe thead th {\n",
              "        text-align: right;\n",
              "    }\n",
              "</style>\n",
              "<table border=\"1\" class=\"dataframe\">\n",
              "  <thead>\n",
              "    <tr style=\"text-align: right;\">\n",
              "      <th></th>\n",
              "      <th>id</th>\n",
              "      <th>plylst_title</th>\n",
              "      <th>tags</th>\n",
              "      <th>like_cnt</th>\n",
              "    </tr>\n",
              "  </thead>\n",
              "  <tbody>\n",
              "    <tr>\n",
              "      <th>0</th>\n",
              "      <td>61281</td>\n",
              "      <td>여행같은 음악</td>\n",
              "      <td>[락]</td>\n",
              "      <td>71</td>\n",
              "    </tr>\n",
              "    <tr>\n",
              "      <th>1</th>\n",
              "      <td>10532</td>\n",
              "      <td>요즘 너 말야</td>\n",
              "      <td>[추억, 회상]</td>\n",
              "      <td>1</td>\n",
              "    </tr>\n",
              "    <tr>\n",
              "      <th>2</th>\n",
              "      <td>76951</td>\n",
              "      <td>편하게, 잔잔하게 들을 수 있는 곡.-</td>\n",
              "      <td>[까페, 잔잔한]</td>\n",
              "      <td>17</td>\n",
              "    </tr>\n",
              "    <tr>\n",
              "      <th>3</th>\n",
              "      <td>147456</td>\n",
              "      <td>크리스마스 분위기에 흠뻑 취하고 싶을때</td>\n",
              "      <td>[연말, 눈오는날, 캐럴, 분위기, 따듯한, 크리스마스캐럴, 겨울노래, 크리스마스,...</td>\n",
              "      <td>33</td>\n",
              "    </tr>\n",
              "    <tr>\n",
              "      <th>4</th>\n",
              "      <td>27616</td>\n",
              "      <td>추억의 노래 ㅋ</td>\n",
              "      <td>[댄스]</td>\n",
              "      <td>9</td>\n",
              "    </tr>\n",
              "    <tr>\n",
              "      <th>...</th>\n",
              "      <td>...</td>\n",
              "      <td>...</td>\n",
              "      <td>...</td>\n",
              "      <td>...</td>\n",
              "    </tr>\n",
              "    <tr>\n",
              "      <th>115066</th>\n",
              "      <td>120325</td>\n",
              "      <td>METAL E'SM #2</td>\n",
              "      <td>[록메탈, 밴드사운드, 록, 락메탈, 메탈, 락, extreme]</td>\n",
              "      <td>3</td>\n",
              "    </tr>\n",
              "    <tr>\n",
              "      <th>115067</th>\n",
              "      <td>106976</td>\n",
              "      <td>빠른 리스너를 위한 따끈따끈한 최신 인기 EDM 모음!</td>\n",
              "      <td>[일렉]</td>\n",
              "      <td>13</td>\n",
              "    </tr>\n",
              "    <tr>\n",
              "      <th>115068</th>\n",
              "      <td>11343</td>\n",
              "      <td>#1. 눈물이 앞을 가리는 나의_이야기</td>\n",
              "      <td>[담시, 가족, 눈물, 그리움, 주인공, 나의_이야기, 사랑, 친구]</td>\n",
              "      <td>4</td>\n",
              "    </tr>\n",
              "    <tr>\n",
              "      <th>115069</th>\n",
              "      <td>131982</td>\n",
              "      <td>퇴근 버스에서 편히 들으면서 하루를 마무리하기에 좋은 POP</td>\n",
              "      <td>[잔잔한, 버스, 퇴근버스, Pop, 풍경, 퇴근길]</td>\n",
              "      <td>4</td>\n",
              "    </tr>\n",
              "    <tr>\n",
              "      <th>115070</th>\n",
              "      <td>100389</td>\n",
              "      <td>FAVORITE POPSONG!!!</td>\n",
              "      <td>[노래추천, 팝송추천, 팝송, 팝송모음]</td>\n",
              "      <td>17</td>\n",
              "    </tr>\n",
              "  </tbody>\n",
              "</table>\n",
              "<p>115071 rows × 4 columns</p>\n",
              "</div>"
            ],
            "text/plain": [
              "            id  ... like_cnt\n",
              "0        61281  ...       71\n",
              "1        10532  ...        1\n",
              "2        76951  ...       17\n",
              "3       147456  ...       33\n",
              "4        27616  ...        9\n",
              "...        ...  ...      ...\n",
              "115066  120325  ...        3\n",
              "115067  106976  ...       13\n",
              "115068   11343  ...        4\n",
              "115069  131982  ...        4\n",
              "115070  100389  ...       17\n",
              "\n",
              "[115071 rows x 4 columns]"
            ]
          },
          "metadata": {
            "tags": []
          },
          "execution_count": 18
        }
      ]
    },
    {
      "cell_type": "markdown",
      "metadata": {
        "id": "Cn0HVzQvN5Jn",
        "colab_type": "text"
      },
      "source": [
        "특수 문자 제거"
      ]
    },
    {
      "cell_type": "code",
      "metadata": {
        "id": "c7nSuiYlpZug",
        "colab_type": "code",
        "colab": {}
      },
      "source": [
        "df['description'] = df['plylst_title'] + ' ' + df['tags'].apply(lambda x: ' '.join(x))\n",
        "key = '[-=+,#/\\?:^$.@*\\\"~&%!\\\\|`\\(\\)\\[\\]\\<\\>\\']|[ㄱ-ㅎ]'\n",
        "df['description'] = df['description'].apply(lambda x: re.sub(key,' ',str(x)))\n",
        "key = '[☆★♡♥♬]'\n",
        "df['description'] = df['description'].apply(lambda x: re.sub(key, ' ', str(x)))"
      ],
      "execution_count": null,
      "outputs": []
    },
    {
      "cell_type": "code",
      "metadata": {
        "id": "gRm6w3n2Qgq9",
        "colab_type": "code",
        "colab": {
          "base_uri": "https://localhost:8080/",
          "height": 504
        },
        "outputId": "0ff6a388-45e3-4721-dc4a-011b6fdfd9dc"
      },
      "source": [
        "df"
      ],
      "execution_count": null,
      "outputs": [
        {
          "output_type": "execute_result",
          "data": {
            "text/html": [
              "<div>\n",
              "<style scoped>\n",
              "    .dataframe tbody tr th:only-of-type {\n",
              "        vertical-align: middle;\n",
              "    }\n",
              "\n",
              "    .dataframe tbody tr th {\n",
              "        vertical-align: top;\n",
              "    }\n",
              "\n",
              "    .dataframe thead th {\n",
              "        text-align: right;\n",
              "    }\n",
              "</style>\n",
              "<table border=\"1\" class=\"dataframe\">\n",
              "  <thead>\n",
              "    <tr style=\"text-align: right;\">\n",
              "      <th></th>\n",
              "      <th>id</th>\n",
              "      <th>plylst_title</th>\n",
              "      <th>tags</th>\n",
              "      <th>like_cnt</th>\n",
              "      <th>description</th>\n",
              "    </tr>\n",
              "  </thead>\n",
              "  <tbody>\n",
              "    <tr>\n",
              "      <th>0</th>\n",
              "      <td>61281</td>\n",
              "      <td>여행같은 음악</td>\n",
              "      <td>[락]</td>\n",
              "      <td>71</td>\n",
              "      <td>여행같은 음악 락</td>\n",
              "    </tr>\n",
              "    <tr>\n",
              "      <th>1</th>\n",
              "      <td>10532</td>\n",
              "      <td>요즘 너 말야</td>\n",
              "      <td>[추억, 회상]</td>\n",
              "      <td>1</td>\n",
              "      <td>요즘 너 말야 추억 회상</td>\n",
              "    </tr>\n",
              "    <tr>\n",
              "      <th>2</th>\n",
              "      <td>76951</td>\n",
              "      <td>편하게, 잔잔하게 들을 수 있는 곡.-</td>\n",
              "      <td>[까페, 잔잔한]</td>\n",
              "      <td>17</td>\n",
              "      <td>편하게  잔잔하게 들을 수 있는 곡   까페 잔잔한</td>\n",
              "    </tr>\n",
              "    <tr>\n",
              "      <th>3</th>\n",
              "      <td>147456</td>\n",
              "      <td>크리스마스 분위기에 흠뻑 취하고 싶을때</td>\n",
              "      <td>[연말, 눈오는날, 캐럴, 분위기, 따듯한, 크리스마스캐럴, 겨울노래, 크리스마스,...</td>\n",
              "      <td>33</td>\n",
              "      <td>크리스마스 분위기에 흠뻑 취하고 싶을때 연말 눈오는날 캐럴 분위기 따듯한 크리스마스...</td>\n",
              "    </tr>\n",
              "    <tr>\n",
              "      <th>4</th>\n",
              "      <td>27616</td>\n",
              "      <td>추억의 노래 ㅋ</td>\n",
              "      <td>[댄스]</td>\n",
              "      <td>9</td>\n",
              "      <td>추억의 노래   댄스</td>\n",
              "    </tr>\n",
              "    <tr>\n",
              "      <th>...</th>\n",
              "      <td>...</td>\n",
              "      <td>...</td>\n",
              "      <td>...</td>\n",
              "      <td>...</td>\n",
              "      <td>...</td>\n",
              "    </tr>\n",
              "    <tr>\n",
              "      <th>115066</th>\n",
              "      <td>120325</td>\n",
              "      <td>METAL E'SM #2</td>\n",
              "      <td>[록메탈, 밴드사운드, 록, 락메탈, 메탈, 락, extreme]</td>\n",
              "      <td>3</td>\n",
              "      <td>METAL E SM  2 록메탈 밴드사운드 록 락메탈 메탈 락 extreme</td>\n",
              "    </tr>\n",
              "    <tr>\n",
              "      <th>115067</th>\n",
              "      <td>106976</td>\n",
              "      <td>빠른 리스너를 위한 따끈따끈한 최신 인기 EDM 모음!</td>\n",
              "      <td>[일렉]</td>\n",
              "      <td>13</td>\n",
              "      <td>빠른 리스너를 위한 따끈따끈한 최신 인기 EDM 모음  일렉</td>\n",
              "    </tr>\n",
              "    <tr>\n",
              "      <th>115068</th>\n",
              "      <td>11343</td>\n",
              "      <td>#1. 눈물이 앞을 가리는 나의_이야기</td>\n",
              "      <td>[담시, 가족, 눈물, 그리움, 주인공, 나의_이야기, 사랑, 친구]</td>\n",
              "      <td>4</td>\n",
              "      <td>1  눈물이 앞을 가리는 나의_이야기 담시 가족 눈물 그리움 주인공 나의_이야기 ...</td>\n",
              "    </tr>\n",
              "    <tr>\n",
              "      <th>115069</th>\n",
              "      <td>131982</td>\n",
              "      <td>퇴근 버스에서 편히 들으면서 하루를 마무리하기에 좋은 POP</td>\n",
              "      <td>[잔잔한, 버스, 퇴근버스, Pop, 풍경, 퇴근길]</td>\n",
              "      <td>4</td>\n",
              "      <td>퇴근 버스에서 편히 들으면서 하루를 마무리하기에 좋은 POP 잔잔한 버스 퇴근버스 ...</td>\n",
              "    </tr>\n",
              "    <tr>\n",
              "      <th>115070</th>\n",
              "      <td>100389</td>\n",
              "      <td>FAVORITE POPSONG!!!</td>\n",
              "      <td>[노래추천, 팝송추천, 팝송, 팝송모음]</td>\n",
              "      <td>17</td>\n",
              "      <td>FAVORITE POPSONG    노래추천 팝송추천 팝송 팝송모음</td>\n",
              "    </tr>\n",
              "  </tbody>\n",
              "</table>\n",
              "<p>115071 rows × 5 columns</p>\n",
              "</div>"
            ],
            "text/plain": [
              "            id  ...                                        description\n",
              "0        61281  ...                                          여행같은 음악 락\n",
              "1        10532  ...                                      요즘 너 말야 추억 회상\n",
              "2        76951  ...                       편하게  잔잔하게 들을 수 있는 곡   까페 잔잔한\n",
              "3       147456  ...  크리스마스 분위기에 흠뻑 취하고 싶을때 연말 눈오는날 캐럴 분위기 따듯한 크리스마스...\n",
              "4        27616  ...                                        추억의 노래   댄스\n",
              "...        ...  ...                                                ...\n",
              "115066  120325  ...         METAL E SM  2 록메탈 밴드사운드 록 락메탈 메탈 락 extreme\n",
              "115067  106976  ...                  빠른 리스너를 위한 따끈따끈한 최신 인기 EDM 모음  일렉\n",
              "115068   11343  ...   1  눈물이 앞을 가리는 나의_이야기 담시 가족 눈물 그리움 주인공 나의_이야기 ...\n",
              "115069  131982  ...  퇴근 버스에서 편히 들으면서 하루를 마무리하기에 좋은 POP 잔잔한 버스 퇴근버스 ...\n",
              "115070  100389  ...              FAVORITE POPSONG    노래추천 팝송추천 팝송 팝송모음\n",
              "\n",
              "[115071 rows x 5 columns]"
            ]
          },
          "metadata": {
            "tags": []
          },
          "execution_count": 20
        }
      ]
    },
    {
      "cell_type": "code",
      "metadata": {
        "id": "MmxbvxEgqgLD",
        "colab_type": "code",
        "colab": {
          "base_uri": "https://localhost:8080/",
          "height": 233
        },
        "outputId": "5bf4c224-8de9-48de-cae6-20482c816a40"
      },
      "source": [
        "des = df['description']\n",
        "des"
      ],
      "execution_count": null,
      "outputs": [
        {
          "output_type": "execute_result",
          "data": {
            "text/plain": [
              "0                                                 여행같은 음악 락\n",
              "1                                             요즘 너 말야 추억 회상\n",
              "2                              편하게  잔잔하게 들을 수 있는 곡   까페 잔잔한\n",
              "3         크리스마스 분위기에 흠뻑 취하고 싶을때 연말 눈오는날 캐럴 분위기 따듯한 크리스마스...\n",
              "4                                               추억의 노래   댄스\n",
              "                                ...                        \n",
              "115066           METAL E SM  2 록메탈 밴드사운드 록 락메탈 메탈 락 extreme\n",
              "115067                    빠른 리스너를 위한 따끈따끈한 최신 인기 EDM 모음  일렉\n",
              "115068     1  눈물이 앞을 가리는 나의_이야기 담시 가족 눈물 그리움 주인공 나의_이야기 ...\n",
              "115069    퇴근 버스에서 편히 들으면서 하루를 마무리하기에 좋은 POP 잔잔한 버스 퇴근버스 ...\n",
              "115070                FAVORITE POPSONG    노래추천 팝송추천 팝송 팝송모음\n",
              "Name: description, Length: 115071, dtype: object"
            ]
          },
          "metadata": {
            "tags": []
          },
          "execution_count": 21
        }
      ]
    },
    {
      "cell_type": "code",
      "metadata": {
        "id": "_GdW7jvrqp0a",
        "colab_type": "code",
        "colab": {}
      },
      "source": [
        "# des.to_excel('/content/drive/My Drive/Colab Notebooks/카카오X멜론 공모전/data/des.xlsx', engine='xlsxwriter')"
      ],
      "execution_count": null,
      "outputs": []
    },
    {
      "cell_type": "markdown",
      "metadata": {
        "id": "JK2b6-SpOGmr",
        "colab_type": "text"
      },
      "source": [
        "여기서부터는 좀 더 디테일한 전처리리 과정. 추후 공개"
      ]
    },
    {
      "cell_type": "code",
      "metadata": {
        "id": "yeb7xCAcs-Vg",
        "colab_type": "code",
        "colab": {
          "base_uri": "https://localhost:8080/",
          "height": 35
        },
        "outputId": "12237065-d119-466a-c827-474bf0f1b70c"
      },
      "source": [
        "key = re.compile('곡+')\n",
        "# des.apply(lambda x: key.findall(x))\n",
        "key.findall(str(des))"
      ],
      "execution_count": null,
      "outputs": [
        {
          "output_type": "execute_result",
          "data": {
            "text/plain": [
              "['곡']"
            ]
          },
          "metadata": {
            "tags": []
          },
          "execution_count": 33
        }
      ]
    }
  ]
}