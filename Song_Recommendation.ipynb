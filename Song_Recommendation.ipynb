{
  "nbformat": 4,
  "nbformat_minor": 0,
  "metadata": {
    "colab": {
      "name": "Song Recommendation.ipynb",
      "provenance": [],
      "collapsed_sections": [],
      "machine_shape": "hm",
      "include_colab_link": true
    },
    "kernelspec": {
      "name": "python3",
      "display_name": "Python 3"
    },
    "accelerator": "GPU"
  },
  "cells": [
    {
      "cell_type": "markdown",
      "metadata": {
        "id": "view-in-github",
        "colab_type": "text"
      },
      "source": [
        "<a href=\"https://colab.research.google.com/github/HappyJJins/KakaoArena/blob/master/Song_Recommendation.ipynb\" target=\"_parent\"><img src=\"https://colab.research.google.com/assets/colab-badge.svg\" alt=\"Open In Colab\"/></a>"
      ]
    },
    {
      "cell_type": "code",
      "metadata": {
        "id": "lnt-YiHI2rVN",
        "colab_type": "code",
        "colab": {}
      },
      "source": [
        "import os, sys\n",
        "from google.colab import drive, auth\n",
        "\n",
        "ROOT = '/content/drive'\n",
        "drive.mount(ROOT)\n",
        "\n",
        "my_path = '/content/notebooks'\n",
        "# Colab Notebooks 안에 my_env 폴더에 패키지 저장\n",
        "os.symlink('/content/drive/My Drive/Colab Notebooks/my_env', my_path)\n",
        "sys.path.insert(0, my_path)"
      ],
      "execution_count": null,
      "outputs": []
    },
    {
      "cell_type": "code",
      "metadata": {
        "id": "j15ZTwVxM7JH",
        "colab_type": "code",
        "colab": {}
      },
      "source": [
        "%matplotlib inline\n",
        "import pandas as pd\n",
        "import numpy as np\n",
        "import re\n",
        "import matplotlib.pyplot as plt\n",
        "from scipy import stats"
      ],
      "execution_count": 7,
      "outputs": []
    },
    {
      "cell_type": "code",
      "metadata": {
        "id": "jydd42fvNQHs",
        "colab_type": "code",
        "colab": {}
      },
      "source": [
        "val = pd.read_json('/content/drive/My Drive/Colab Notebooks/카카오X멜론 공모전/data/val.json', typ='frame')\n",
        "song_meta = pd.read_json('/content/drive/My Drive/Colab Notebooks/카카오X멜론 공모전/data/song_meta.json', typ = 'frame')\n",
        "train = pd.read_json('/content/drive/My Drive/Colab Notebooks/카카오X멜론 공모전/data/train.json', typ = 'frame')"
      ],
      "execution_count": 8,
      "outputs": []
    },
    {
      "cell_type": "code",
      "metadata": {
        "id": "O5mUgu8Ov-uZ",
        "colab_type": "code",
        "colab": {
          "base_uri": "https://localhost:8080/",
          "height": 359
        },
        "outputId": "a55938de-5c22-4a71-932c-94fd026b4cb6"
      },
      "source": [
        "val[10:20]"
      ],
      "execution_count": 67,
      "outputs": [
        {
          "output_type": "execute_result",
          "data": {
            "text/html": [
              "<div>\n",
              "<style scoped>\n",
              "    .dataframe tbody tr th:only-of-type {\n",
              "        vertical-align: middle;\n",
              "    }\n",
              "\n",
              "    .dataframe tbody tr th {\n",
              "        vertical-align: top;\n",
              "    }\n",
              "\n",
              "    .dataframe thead th {\n",
              "        text-align: right;\n",
              "    }\n",
              "</style>\n",
              "<table border=\"1\" class=\"dataframe\">\n",
              "  <thead>\n",
              "    <tr style=\"text-align: right;\">\n",
              "      <th></th>\n",
              "      <th>tags</th>\n",
              "      <th>id</th>\n",
              "      <th>plylst_title</th>\n",
              "      <th>songs</th>\n",
              "      <th>like_cnt</th>\n",
              "      <th>updt_date</th>\n",
              "    </tr>\n",
              "  </thead>\n",
              "  <tbody>\n",
              "    <tr>\n",
              "      <th>10</th>\n",
              "      <td>[]</td>\n",
              "      <td>126307</td>\n",
              "      <td></td>\n",
              "      <td>[362319, 38935, 119190, 452702]</td>\n",
              "      <td>272</td>\n",
              "      <td>2011-07-28 14:44:58.000</td>\n",
              "    </tr>\n",
              "    <tr>\n",
              "      <th>11</th>\n",
              "      <td>[아침, 눈, 크리스마스]</td>\n",
              "      <td>136650</td>\n",
              "      <td></td>\n",
              "      <td>[174132, 257367, 539802, 568691, 296891, 38471...</td>\n",
              "      <td>6</td>\n",
              "      <td>2017-11-24 11:26:05.000</td>\n",
              "    </tr>\n",
              "    <tr>\n",
              "      <th>12</th>\n",
              "      <td>[EDM]</td>\n",
              "      <td>53131</td>\n",
              "      <td></td>\n",
              "      <td>[392257, 668879, 460746, 680240, 490966, 25010...</td>\n",
              "      <td>268</td>\n",
              "      <td>2016-09-19 15:40:31.000</td>\n",
              "    </tr>\n",
              "    <tr>\n",
              "      <th>13</th>\n",
              "      <td>[]</td>\n",
              "      <td>44037</td>\n",
              "      <td></td>\n",
              "      <td>[20294, 183236, 444525, 509867, 650133, 110587...</td>\n",
              "      <td>4</td>\n",
              "      <td>2018-01-08 10:36:19.000</td>\n",
              "    </tr>\n",
              "    <tr>\n",
              "      <th>14</th>\n",
              "      <td>[]</td>\n",
              "      <td>64105</td>\n",
              "      <td></td>\n",
              "      <td>[131609, 327419, 454168, 702488, 324003, 47234...</td>\n",
              "      <td>45</td>\n",
              "      <td>2013-01-08 23:08:40.000</td>\n",
              "    </tr>\n",
              "    <tr>\n",
              "      <th>15</th>\n",
              "      <td>[]</td>\n",
              "      <td>40637</td>\n",
              "      <td></td>\n",
              "      <td>[354004, 199262, 637107, 452514, 310090, 13281...</td>\n",
              "      <td>2</td>\n",
              "      <td>2017-09-26 11:20:56.000</td>\n",
              "    </tr>\n",
              "    <tr>\n",
              "      <th>16</th>\n",
              "      <td>[]</td>\n",
              "      <td>41828</td>\n",
              "      <td></td>\n",
              "      <td>[648204, 8297, 278249]</td>\n",
              "      <td>32</td>\n",
              "      <td>2013-02-28 11:47:49.000</td>\n",
              "    </tr>\n",
              "    <tr>\n",
              "      <th>17</th>\n",
              "      <td>[생각나]</td>\n",
              "      <td>2380</td>\n",
              "      <td>다시 생각나는 그 사람</td>\n",
              "      <td>[]</td>\n",
              "      <td>6</td>\n",
              "      <td>2016-03-19 23:53:20.000</td>\n",
              "    </tr>\n",
              "    <tr>\n",
              "      <th>18</th>\n",
              "      <td>[]</td>\n",
              "      <td>87846</td>\n",
              "      <td></td>\n",
              "      <td>[564439, 16513, 12841, 395460, 449327, 113160]</td>\n",
              "      <td>68</td>\n",
              "      <td>2019-06-02 11:32:17.000</td>\n",
              "    </tr>\n",
              "    <tr>\n",
              "      <th>19</th>\n",
              "      <td>[]</td>\n",
              "      <td>94446</td>\n",
              "      <td></td>\n",
              "      <td>[482423, 543094, 131295, 198666, 61771, 272180...</td>\n",
              "      <td>1</td>\n",
              "      <td>2020-04-10 13:57:54.000</td>\n",
              "    </tr>\n",
              "  </tbody>\n",
              "</table>\n",
              "</div>"
            ],
            "text/plain": [
              "              tags      id  ... like_cnt                updt_date\n",
              "10              []  126307  ...      272  2011-07-28 14:44:58.000\n",
              "11  [아침, 눈, 크리스마스]  136650  ...        6  2017-11-24 11:26:05.000\n",
              "12           [EDM]   53131  ...      268  2016-09-19 15:40:31.000\n",
              "13              []   44037  ...        4  2018-01-08 10:36:19.000\n",
              "14              []   64105  ...       45  2013-01-08 23:08:40.000\n",
              "15              []   40637  ...        2  2017-09-26 11:20:56.000\n",
              "16              []   41828  ...       32  2013-02-28 11:47:49.000\n",
              "17           [생각나]    2380  ...        6  2016-03-19 23:53:20.000\n",
              "18              []   87846  ...       68  2019-06-02 11:32:17.000\n",
              "19              []   94446  ...        1  2020-04-10 13:57:54.000\n",
              "\n",
              "[10 rows x 6 columns]"
            ]
          },
          "metadata": {
            "tags": []
          },
          "execution_count": 67
        }
      ]
    },
    {
      "cell_type": "code",
      "metadata": {
        "id": "FjC0iRF4NSY3",
        "colab_type": "code",
        "colab": {}
      },
      "source": [
        "# 플레이리스트 아이디(id)와 수록곡(songs) 추출\n",
        "plylst_song_map = train[['id', 'songs']]\n",
        "\n",
        "# unnest songs\n",
        "plylst_song_map_unnest = np.dstack(\n",
        "    (\n",
        "        np.repeat(plylst_song_map.id.values, list(map(len, plylst_song_map.songs))), \n",
        "        np.concatenate(plylst_song_map.songs.values)\n",
        "    )\n",
        ")\n",
        "\n",
        "# unnested 데이터프레임 생성 : plylst_song_map\n",
        "plylst_song_map = pd.DataFrame(data = plylst_song_map_unnest[0], columns = plylst_song_map.columns)\n",
        "plylst_song_map['id'] = plylst_song_map['id'].astype(str)\n",
        "plylst_song_map['songs'] = plylst_song_map['songs'].astype(str)\n",
        "\n",
        "# unnest 객체 제거\n",
        "del plylst_song_map_unnest"
      ],
      "execution_count": 9,
      "outputs": []
    },
    {
      "cell_type": "code",
      "metadata": {
        "id": "210g1KwfNi9q",
        "colab_type": "code",
        "colab": {}
      },
      "source": [
        "# 플레이리스트 아이디(id)와 매핑된 태그(tags) 추출\n",
        "plylst_tag_map = train[['id', 'tags']]\n",
        "\n",
        "# unnest tags\n",
        "plylst_tag_map_unnest = np.dstack(\n",
        "    (\n",
        "        np.repeat(plylst_tag_map.id.values, list(map(len, plylst_tag_map.tags))), \n",
        "        np.concatenate(plylst_tag_map.tags.values)\n",
        "    )\n",
        ")\n",
        "\n",
        "# unnested 데이터프레임 생성 : plylst_tag_map\n",
        "plylst_tag_map = pd.DataFrame(data = plylst_tag_map_unnest[0], columns = plylst_tag_map.columns)\n",
        "plylst_tag_map['id'] = plylst_tag_map['id'].astype(str)\n",
        "\n",
        "# unnest 객체 제거\n",
        "del plylst_tag_map_unnest"
      ],
      "execution_count": 10,
      "outputs": []
    },
    {
      "cell_type": "code",
      "metadata": {
        "id": "ZUBsfcE_NkzM",
        "colab_type": "code",
        "colab": {}
      },
      "source": [
        "# 곡 별 매핑 되는 장르 수?\n",
        "\n",
        "# 곡 아이디(id)와 대분류 장르코드 리스트(song_gn_gnr_basket) 추출\n",
        "song_gnr_map = song_meta.loc[:, ['id', 'song_gn_gnr_basket']]\n",
        "\n",
        "# unnest song_gn_gnr_basket\n",
        "song_gnr_map_unnest = np.dstack(\n",
        "    (\n",
        "        np.repeat(song_gnr_map.id.values, list(map(len, song_gnr_map.song_gn_gnr_basket))), \n",
        "        np.concatenate(song_gnr_map.song_gn_gnr_basket.values)\n",
        "    )\n",
        ")\n",
        "\n",
        "# unnested 데이터프레임 생성 : song_gnr_map\n",
        "song_gnr_map = pd.DataFrame(data = song_gnr_map_unnest[0], columns = song_gnr_map.columns)\n",
        "song_gnr_map['id'] = song_gnr_map['id'].astype(str)\n",
        "song_gnr_map.rename(columns = {'id' : 'song_id', 'song_gn_gnr_basket' : 'gnr_code'}, inplace = True)\n",
        "\n",
        "# unnest 객체 제거\n",
        "del song_gnr_map_unnest"
      ],
      "execution_count": 11,
      "outputs": []
    },
    {
      "cell_type": "code",
      "metadata": {
        "id": "EBO3YgcpNktm",
        "colab_type": "code",
        "colab": {
          "base_uri": "https://localhost:8080/",
          "height": 419
        },
        "outputId": "3f15375a-6f03-4651-a96c-ac74b6aa275f"
      },
      "source": [
        "# 1. 플레이리스트-곡 테이블 plylst_song_map + 플레이리스트-태그 테이블 plylst_tag_map join 테이블 생성 : plylst_song_tag_map\n",
        "plylst_song_tag_map = pd.merge(plylst_song_map, plylst_tag_map, how = 'left', on = 'id')\n",
        "\n",
        "# # 2. 1번 테이블 plylst_song_tag_map + 곡 장르 테이블 song_gnr_map join\n",
        "plylst_song_tag_map = pd.merge(plylst_song_tag_map, song_gnr_map, how = 'left', left_on = 'songs', right_on = 'song_id')\n",
        "plylst_song_tag_map"
      ],
      "execution_count": 12,
      "outputs": [
        {
          "output_type": "execute_result",
          "data": {
            "text/html": [
              "<div>\n",
              "<style scoped>\n",
              "    .dataframe tbody tr th:only-of-type {\n",
              "        vertical-align: middle;\n",
              "    }\n",
              "\n",
              "    .dataframe tbody tr th {\n",
              "        vertical-align: top;\n",
              "    }\n",
              "\n",
              "    .dataframe thead th {\n",
              "        text-align: right;\n",
              "    }\n",
              "</style>\n",
              "<table border=\"1\" class=\"dataframe\">\n",
              "  <thead>\n",
              "    <tr style=\"text-align: right;\">\n",
              "      <th></th>\n",
              "      <th>id</th>\n",
              "      <th>songs</th>\n",
              "      <th>tags</th>\n",
              "      <th>song_id</th>\n",
              "      <th>gnr_code</th>\n",
              "    </tr>\n",
              "  </thead>\n",
              "  <tbody>\n",
              "    <tr>\n",
              "      <th>0</th>\n",
              "      <td>61281</td>\n",
              "      <td>525514</td>\n",
              "      <td>락</td>\n",
              "      <td>525514</td>\n",
              "      <td>GN1400</td>\n",
              "    </tr>\n",
              "    <tr>\n",
              "      <th>1</th>\n",
              "      <td>61281</td>\n",
              "      <td>129701</td>\n",
              "      <td>락</td>\n",
              "      <td>129701</td>\n",
              "      <td>GN0900</td>\n",
              "    </tr>\n",
              "    <tr>\n",
              "      <th>2</th>\n",
              "      <td>61281</td>\n",
              "      <td>129701</td>\n",
              "      <td>락</td>\n",
              "      <td>129701</td>\n",
              "      <td>GN1000</td>\n",
              "    </tr>\n",
              "    <tr>\n",
              "      <th>3</th>\n",
              "      <td>61281</td>\n",
              "      <td>383374</td>\n",
              "      <td>락</td>\n",
              "      <td>383374</td>\n",
              "      <td>GN1000</td>\n",
              "    </tr>\n",
              "    <tr>\n",
              "      <th>4</th>\n",
              "      <td>61281</td>\n",
              "      <td>562083</td>\n",
              "      <td>락</td>\n",
              "      <td>562083</td>\n",
              "      <td>GN0900</td>\n",
              "    </tr>\n",
              "    <tr>\n",
              "      <th>...</th>\n",
              "      <td>...</td>\n",
              "      <td>...</td>\n",
              "      <td>...</td>\n",
              "      <td>...</td>\n",
              "      <td>...</td>\n",
              "    </tr>\n",
              "    <tr>\n",
              "      <th>29620344</th>\n",
              "      <td>100389</td>\n",
              "      <td>13759</td>\n",
              "      <td>팝송모음</td>\n",
              "      <td>13759</td>\n",
              "      <td>GN1000</td>\n",
              "    </tr>\n",
              "    <tr>\n",
              "      <th>29620345</th>\n",
              "      <td>100389</td>\n",
              "      <td>154078</td>\n",
              "      <td>노래추천</td>\n",
              "      <td>154078</td>\n",
              "      <td>GN1000</td>\n",
              "    </tr>\n",
              "    <tr>\n",
              "      <th>29620346</th>\n",
              "      <td>100389</td>\n",
              "      <td>154078</td>\n",
              "      <td>팝송추천</td>\n",
              "      <td>154078</td>\n",
              "      <td>GN1000</td>\n",
              "    </tr>\n",
              "    <tr>\n",
              "      <th>29620347</th>\n",
              "      <td>100389</td>\n",
              "      <td>154078</td>\n",
              "      <td>팝송</td>\n",
              "      <td>154078</td>\n",
              "      <td>GN1000</td>\n",
              "    </tr>\n",
              "    <tr>\n",
              "      <th>29620348</th>\n",
              "      <td>100389</td>\n",
              "      <td>154078</td>\n",
              "      <td>팝송모음</td>\n",
              "      <td>154078</td>\n",
              "      <td>GN1000</td>\n",
              "    </tr>\n",
              "  </tbody>\n",
              "</table>\n",
              "<p>29620349 rows × 5 columns</p>\n",
              "</div>"
            ],
            "text/plain": [
              "              id   songs  tags song_id gnr_code\n",
              "0          61281  525514     락  525514   GN1400\n",
              "1          61281  129701     락  129701   GN0900\n",
              "2          61281  129701     락  129701   GN1000\n",
              "3          61281  383374     락  383374   GN1000\n",
              "4          61281  562083     락  562083   GN0900\n",
              "...          ...     ...   ...     ...      ...\n",
              "29620344  100389   13759  팝송모음   13759   GN1000\n",
              "29620345  100389  154078  노래추천  154078   GN1000\n",
              "29620346  100389  154078  팝송추천  154078   GN1000\n",
              "29620347  100389  154078    팝송  154078   GN1000\n",
              "29620348  100389  154078  팝송모음  154078   GN1000\n",
              "\n",
              "[29620349 rows x 5 columns]"
            ]
          },
          "metadata": {
            "tags": []
          },
          "execution_count": 12
        }
      ]
    },
    {
      "cell_type": "code",
      "metadata": {
        "id": "15i4p66pNnxs",
        "colab_type": "code",
        "colab": {}
      },
      "source": [
        "# 곡 아이디(id)와 대분류 장르코드 리스트(song_gn_gnr_basket) 추출\n",
        "song_gnr_map = song_meta.loc[:, ['id', 'song_gn_gnr_basket']]\n",
        "\n",
        "# unnest song_gn_gnr_basket\n",
        "song_gnr_map_unnest = np.dstack(\n",
        "    (\n",
        "        np.repeat(song_gnr_map.id.values, list(map(len, song_gnr_map.song_gn_gnr_basket))), \n",
        "        np.concatenate(song_gnr_map.song_gn_gnr_basket.values)\n",
        "    )\n",
        ")\n",
        "\n",
        "# unnested 데이터프레임 생성 : song_gnr_map\n",
        "song_gnr_map = pd.DataFrame(data = song_gnr_map_unnest[0], columns = song_gnr_map.columns)\n",
        "song_gnr_map['id'] = song_gnr_map['id'].astype(str)\n",
        "song_gnr_map.rename(columns = {'id' : 'song_id', 'song_gn_gnr_basket' : 'gnr_code'}, inplace = True)\n",
        "\n",
        "# unnest 객체 제거\n",
        "del song_gnr_map_unnest"
      ],
      "execution_count": 13,
      "outputs": []
    },
    {
      "cell_type": "code",
      "metadata": {
        "id": "zvNqaZmxNpD0",
        "colab_type": "code",
        "colab": {}
      },
      "source": [
        "# 태그별 매핑된 장르 리스트\n",
        "tag_gnr = pd.DataFrame()\n",
        "tag_gnr['gnr_code'] = plylst_song_tag_map.groupby('tags').gnr_code.unique()\n",
        "tag_gnr['gnr_code'] = tag_gnr['gnr_code'].apply(lambda x: x.tolist())\n",
        "tag_gnr.reset_index(level=['tags'], inplace = True)"
      ],
      "execution_count": 14,
      "outputs": []
    },
    {
      "cell_type": "code",
      "metadata": {
        "id": "xRvCtm-WNq0a",
        "colab_type": "code",
        "colab": {}
      },
      "source": [
        "val_train = val\n",
        "# song id와 playlist id type을 str으로\n",
        "val_train['songs'] = val_train['songs'].apply(lambda x: list(map(str, x)))\n",
        "val_train['id'] = val_train['id'].astype(str)"
      ],
      "execution_count": 15,
      "outputs": []
    },
    {
      "cell_type": "code",
      "metadata": {
        "id": "kbWxl8yINsFk",
        "colab_type": "code",
        "colab": {}
      },
      "source": [
        "def test_algo(id):\n",
        "  # 입력된 playlist id에 수록된 tag와 song list\n",
        "  tags = val_train[val_train['id'] == id]['tags'].tolist()[0]\n",
        "  songs = val_train[val_train['id'] == id]['songs'].tolist()[0]\n",
        "  # 앞의 tag와 song에 해당하는 장르 list\n",
        "  tags_gnr = list(map(lambda x: tag_gnr[tag_gnr['tags'] == x]['gnr_code'].tolist()[0], tags))\n",
        "  songs_gnr = list(map(lambda x: song_gnr_map[song_gnr_map['song_id'] == x]['gnr_code'].tolist()[0], songs))\n",
        "  songs_gnr.append(tags_gnr)\n",
        "  \n",
        "  key = re.compile('[G|N|0-9]+')\n",
        "  test = key.findall(str(songs_gnr)) #nan값 제거\n",
        "\n",
        "  gnr = pd.Series(test)\n",
        "\n",
        "  return gnr.value_counts().head(5) # 많이 매핑된 장르 5개"
      ],
      "execution_count": 16,
      "outputs": []
    },
    {
      "cell_type": "markdown",
      "metadata": {
        "id": "MJvoIxdpkzWv",
        "colab_type": "text"
      },
      "source": [
        "### Plylst 번호 입력"
      ]
    },
    {
      "cell_type": "code",
      "metadata": {
        "id": "6Nx3VPFP4bwU",
        "colab_type": "code",
        "colab": {
          "base_uri": "https://localhost:8080/",
          "height": 80
        },
        "outputId": "8ce5606c-ed50-4d0a-95b3-ace3d114b8df"
      },
      "source": [
        "plylst_id = '136650'\n",
        "val_train[val_train['id'] == plylst_id]"
      ],
      "execution_count": 17,
      "outputs": [
        {
          "output_type": "execute_result",
          "data": {
            "text/html": [
              "<div>\n",
              "<style scoped>\n",
              "    .dataframe tbody tr th:only-of-type {\n",
              "        vertical-align: middle;\n",
              "    }\n",
              "\n",
              "    .dataframe tbody tr th {\n",
              "        vertical-align: top;\n",
              "    }\n",
              "\n",
              "    .dataframe thead th {\n",
              "        text-align: right;\n",
              "    }\n",
              "</style>\n",
              "<table border=\"1\" class=\"dataframe\">\n",
              "  <thead>\n",
              "    <tr style=\"text-align: right;\">\n",
              "      <th></th>\n",
              "      <th>tags</th>\n",
              "      <th>id</th>\n",
              "      <th>plylst_title</th>\n",
              "      <th>songs</th>\n",
              "      <th>like_cnt</th>\n",
              "      <th>updt_date</th>\n",
              "    </tr>\n",
              "  </thead>\n",
              "  <tbody>\n",
              "    <tr>\n",
              "      <th>11</th>\n",
              "      <td>[아침, 눈, 크리스마스]</td>\n",
              "      <td>136650</td>\n",
              "      <td></td>\n",
              "      <td>[174132, 257367, 539802, 568691, 296891, 38471...</td>\n",
              "      <td>6</td>\n",
              "      <td>2017-11-24 11:26:05.000</td>\n",
              "    </tr>\n",
              "  </tbody>\n",
              "</table>\n",
              "</div>"
            ],
            "text/plain": [
              "              tags      id  ... like_cnt                updt_date\n",
              "11  [아침, 눈, 크리스마스]  136650  ...        6  2017-11-24 11:26:05.000\n",
              "\n",
              "[1 rows x 6 columns]"
            ]
          },
          "metadata": {
            "tags": []
          },
          "execution_count": 17
        }
      ]
    },
    {
      "cell_type": "code",
      "metadata": {
        "id": "n7oFPp23xtxU",
        "colab_type": "code",
        "colab": {
          "base_uri": "https://localhost:8080/",
          "height": 125
        },
        "outputId": "f6e95fe1-d142-4a4f-d842-6ac3539d794c"
      },
      "source": [
        "test_algo(plylst_id) # '136650'번 playlist에 매핑된 장르 상위 5개"
      ],
      "execution_count": 18,
      "outputs": [
        {
          "output_type": "execute_result",
          "data": {
            "text/plain": [
              "GN1700    10\n",
              "GN1400     5\n",
              "GN0900     5\n",
              "GN1100     4\n",
              "GN0800     4\n",
              "dtype: int64"
            ]
          },
          "metadata": {
            "tags": []
          },
          "execution_count": 18
        }
      ]
    },
    {
      "cell_type": "code",
      "metadata": {
        "id": "bI0uBe6sNuqG",
        "colab_type": "code",
        "colab": {
          "base_uri": "https://localhost:8080/",
          "height": 35
        },
        "outputId": "4aefa262-a15c-4fa3-f513-5fb21c39707c"
      },
      "source": [
        "test = test_algo(plylst_id)\n",
        "test_idx = test.index.tolist()\n",
        "test_idx"
      ],
      "execution_count": 19,
      "outputs": [
        {
          "output_type": "execute_result",
          "data": {
            "text/plain": [
              "['GN1700', 'GN1400', 'GN0900', 'GN1100', 'GN0800']"
            ]
          },
          "metadata": {
            "tags": []
          },
          "execution_count": 19
        }
      ]
    },
    {
      "cell_type": "code",
      "metadata": {
        "id": "hSxvo4iQN1De",
        "colab_type": "code",
        "colab": {}
      },
      "source": [
        "def cosine(gnr_code) :\n",
        "    cosine_sim = np.load('/content/drive/My Drive/Colab Notebooks/카카오X멜론 공모전/data/gn_cos/{}.npy'.format(gnr_code))\n",
        "    return cosine_sim"
      ],
      "execution_count": 27,
      "outputs": []
    },
    {
      "cell_type": "code",
      "metadata": {
        "id": "rNaSN14_N3nW",
        "colab_type": "code",
        "colab": {
          "base_uri": "https://localhost:8080/",
          "height": 358
        },
        "outputId": "6a632598-9872-4c0c-c599-d176c7a39fa0"
      },
      "source": [
        "# 발라드 장르 코사인 유사도 매트릭스\n",
        "# 용량이 커서 그런가 안 돌아감. \n",
        "cosine('GN0400')"
      ],
      "execution_count": 24,
      "outputs": [
        {
          "output_type": "error",
          "ename": "OSError",
          "evalue": "ignored",
          "traceback": [
            "\u001b[0;31m---------------------------------------------------------------------------\u001b[0m",
            "\u001b[0;31mOSError\u001b[0m                                   Traceback (most recent call last)",
            "\u001b[0;32m<ipython-input-24-817972d3b50c>\u001b[0m in \u001b[0;36m<module>\u001b[0;34m()\u001b[0m\n\u001b[1;32m      1\u001b[0m \u001b[0;31m# 발라드 장르 코사인 유사도 매트릭스\u001b[0m\u001b[0;34m\u001b[0m\u001b[0;34m\u001b[0m\u001b[0;34m\u001b[0m\u001b[0m\n\u001b[1;32m      2\u001b[0m \u001b[0;31m# 용량이 커서 그런가 안 돌아감.\u001b[0m\u001b[0;34m\u001b[0m\u001b[0;34m\u001b[0m\u001b[0;34m\u001b[0m\u001b[0m\n\u001b[0;32m----> 3\u001b[0;31m \u001b[0mcosine\u001b[0m\u001b[0;34m(\u001b[0m\u001b[0;34m'GN0400'\u001b[0m\u001b[0;34m)\u001b[0m\u001b[0;34m\u001b[0m\u001b[0;34m\u001b[0m\u001b[0m\n\u001b[0m",
            "\u001b[0;32m<ipython-input-20-8e27d70d2a77>\u001b[0m in \u001b[0;36mcosine\u001b[0;34m(gnr_code)\u001b[0m\n\u001b[1;32m      1\u001b[0m \u001b[0;32mdef\u001b[0m \u001b[0mcosine\u001b[0m\u001b[0;34m(\u001b[0m\u001b[0mgnr_code\u001b[0m\u001b[0;34m)\u001b[0m \u001b[0;34m:\u001b[0m\u001b[0;34m\u001b[0m\u001b[0;34m\u001b[0m\u001b[0m\n\u001b[0;32m----> 2\u001b[0;31m     \u001b[0mcosine_sim\u001b[0m \u001b[0;34m=\u001b[0m \u001b[0mnp\u001b[0m\u001b[0;34m.\u001b[0m\u001b[0mload\u001b[0m\u001b[0;34m(\u001b[0m\u001b[0;34m'/content/drive/My Drive/Colab Notebooks/카카오X멜론 공모전/data/gn_cos/{}.npy'\u001b[0m\u001b[0;34m.\u001b[0m\u001b[0mformat\u001b[0m\u001b[0;34m(\u001b[0m\u001b[0mgnr_code\u001b[0m\u001b[0;34m)\u001b[0m\u001b[0;34m)\u001b[0m\u001b[0;34m\u001b[0m\u001b[0;34m\u001b[0m\u001b[0m\n\u001b[0m\u001b[1;32m      3\u001b[0m     \u001b[0;32mreturn\u001b[0m \u001b[0mcosine_sim\u001b[0m\u001b[0;34m\u001b[0m\u001b[0;34m\u001b[0m\u001b[0m\n",
            "\u001b[0;32m/usr/local/lib/python3.6/dist-packages/numpy/lib/npyio.py\u001b[0m in \u001b[0;36mload\u001b[0;34m(file, mmap_mode, allow_pickle, fix_imports, encoding)\u001b[0m\n\u001b[1;32m    434\u001b[0m         \u001b[0m_ZIP_SUFFIX\u001b[0m \u001b[0;34m=\u001b[0m \u001b[0;34mb'PK\\x05\\x06'\u001b[0m \u001b[0;31m# empty zip files start with this\u001b[0m\u001b[0;34m\u001b[0m\u001b[0;34m\u001b[0m\u001b[0m\n\u001b[1;32m    435\u001b[0m         \u001b[0mN\u001b[0m \u001b[0;34m=\u001b[0m \u001b[0mlen\u001b[0m\u001b[0;34m(\u001b[0m\u001b[0mformat\u001b[0m\u001b[0;34m.\u001b[0m\u001b[0mMAGIC_PREFIX\u001b[0m\u001b[0;34m)\u001b[0m\u001b[0;34m\u001b[0m\u001b[0;34m\u001b[0m\u001b[0m\n\u001b[0;32m--> 436\u001b[0;31m         \u001b[0mmagic\u001b[0m \u001b[0;34m=\u001b[0m \u001b[0mfid\u001b[0m\u001b[0;34m.\u001b[0m\u001b[0mread\u001b[0m\u001b[0;34m(\u001b[0m\u001b[0mN\u001b[0m\u001b[0;34m)\u001b[0m\u001b[0;34m\u001b[0m\u001b[0;34m\u001b[0m\u001b[0m\n\u001b[0m\u001b[1;32m    437\u001b[0m         \u001b[0;31m# If the file size is less than N, we need to make sure not\u001b[0m\u001b[0;34m\u001b[0m\u001b[0;34m\u001b[0m\u001b[0;34m\u001b[0m\u001b[0m\n\u001b[1;32m    438\u001b[0m         \u001b[0;31m# to seek past the beginning of the file\u001b[0m\u001b[0;34m\u001b[0m\u001b[0;34m\u001b[0m\u001b[0;34m\u001b[0m\u001b[0m\n",
            "\u001b[0;31mOSError\u001b[0m: [Errno 5] Input/output error"
          ]
        }
      ]
    },
    {
      "cell_type": "code",
      "metadata": {
        "id": "0vPUwkL6vI7M",
        "colab_type": "code",
        "colab": {
          "base_uri": "https://localhost:8080/",
          "height": 340
        },
        "outputId": "c65a49dc-cfc5-4e85-a74d-530200ba38af"
      },
      "source": [
        "cosine_sim = cosine(test_idx[0]) # 가장 많이 매핑된 장르인 GN1700의 코사인 유사도 매트릭스\n",
        "cosine_sim"
      ],
      "execution_count": 29,
      "outputs": [
        {
          "output_type": "error",
          "ename": "PermissionError",
          "evalue": "ignored",
          "traceback": [
            "\u001b[0;31m---------------------------------------------------------------------------\u001b[0m",
            "\u001b[0;31mPermissionError\u001b[0m                           Traceback (most recent call last)",
            "\u001b[0;32m<ipython-input-29-a5c350c5ed43>\u001b[0m in \u001b[0;36m<module>\u001b[0;34m()\u001b[0m\n\u001b[0;32m----> 1\u001b[0;31m \u001b[0mcosine_sim\u001b[0m \u001b[0;34m=\u001b[0m \u001b[0mcosine\u001b[0m\u001b[0;34m(\u001b[0m\u001b[0mtest_idx\u001b[0m\u001b[0;34m[\u001b[0m\u001b[0;36m0\u001b[0m\u001b[0;34m]\u001b[0m\u001b[0;34m)\u001b[0m \u001b[0;31m# 가장 많이 매핑된 장르인 GN1700의 코사인 유사도 매트릭스\u001b[0m\u001b[0;34m\u001b[0m\u001b[0;34m\u001b[0m\u001b[0m\n\u001b[0m\u001b[1;32m      2\u001b[0m \u001b[0mcosine_sim\u001b[0m\u001b[0;34m\u001b[0m\u001b[0;34m\u001b[0m\u001b[0m\n",
            "\u001b[0;32m<ipython-input-27-8e27d70d2a77>\u001b[0m in \u001b[0;36mcosine\u001b[0;34m(gnr_code)\u001b[0m\n\u001b[1;32m      1\u001b[0m \u001b[0;32mdef\u001b[0m \u001b[0mcosine\u001b[0m\u001b[0;34m(\u001b[0m\u001b[0mgnr_code\u001b[0m\u001b[0;34m)\u001b[0m \u001b[0;34m:\u001b[0m\u001b[0;34m\u001b[0m\u001b[0;34m\u001b[0m\u001b[0m\n\u001b[0;32m----> 2\u001b[0;31m     \u001b[0mcosine_sim\u001b[0m \u001b[0;34m=\u001b[0m \u001b[0mnp\u001b[0m\u001b[0;34m.\u001b[0m\u001b[0mload\u001b[0m\u001b[0;34m(\u001b[0m\u001b[0;34m'/content/drive/My Drive/Colab Notebooks/카카오X멜론 공모전/data/gn_cos/{}.npy'\u001b[0m\u001b[0;34m.\u001b[0m\u001b[0mformat\u001b[0m\u001b[0;34m(\u001b[0m\u001b[0mgnr_code\u001b[0m\u001b[0;34m)\u001b[0m\u001b[0;34m)\u001b[0m\u001b[0;34m\u001b[0m\u001b[0;34m\u001b[0m\u001b[0m\n\u001b[0m\u001b[1;32m      3\u001b[0m     \u001b[0;32mreturn\u001b[0m \u001b[0mcosine_sim\u001b[0m\u001b[0;34m\u001b[0m\u001b[0;34m\u001b[0m\u001b[0m\n",
            "\u001b[0;32m/usr/local/lib/python3.6/dist-packages/numpy/lib/npyio.py\u001b[0m in \u001b[0;36mload\u001b[0;34m(file, mmap_mode, allow_pickle, fix_imports, encoding)\u001b[0m\n\u001b[1;32m    434\u001b[0m         \u001b[0m_ZIP_SUFFIX\u001b[0m \u001b[0;34m=\u001b[0m \u001b[0;34mb'PK\\x05\\x06'\u001b[0m \u001b[0;31m# empty zip files start with this\u001b[0m\u001b[0;34m\u001b[0m\u001b[0;34m\u001b[0m\u001b[0m\n\u001b[1;32m    435\u001b[0m         \u001b[0mN\u001b[0m \u001b[0;34m=\u001b[0m \u001b[0mlen\u001b[0m\u001b[0;34m(\u001b[0m\u001b[0mformat\u001b[0m\u001b[0;34m.\u001b[0m\u001b[0mMAGIC_PREFIX\u001b[0m\u001b[0;34m)\u001b[0m\u001b[0;34m\u001b[0m\u001b[0;34m\u001b[0m\u001b[0m\n\u001b[0;32m--> 436\u001b[0;31m         \u001b[0mmagic\u001b[0m \u001b[0;34m=\u001b[0m \u001b[0mfid\u001b[0m\u001b[0;34m.\u001b[0m\u001b[0mread\u001b[0m\u001b[0;34m(\u001b[0m\u001b[0mN\u001b[0m\u001b[0;34m)\u001b[0m\u001b[0;34m\u001b[0m\u001b[0;34m\u001b[0m\u001b[0m\n\u001b[0m\u001b[1;32m    437\u001b[0m         \u001b[0;31m# If the file size is less than N, we need to make sure not\u001b[0m\u001b[0;34m\u001b[0m\u001b[0;34m\u001b[0m\u001b[0;34m\u001b[0m\u001b[0m\n\u001b[1;32m    438\u001b[0m         \u001b[0;31m# to seek past the beginning of the file\u001b[0m\u001b[0;34m\u001b[0m\u001b[0;34m\u001b[0m\u001b[0;34m\u001b[0m\u001b[0m\n",
            "\u001b[0;31mPermissionError\u001b[0m: [Errno 1] Operation not permitted"
          ]
        }
      ]
    },
    {
      "cell_type": "code",
      "metadata": {
        "id": "ChnBg54ZN6V-",
        "colab_type": "code",
        "colab": {
          "base_uri": "https://localhost:8080/",
          "height": 419
        },
        "outputId": "d9b611f3-6970-4dc9-8e1d-8e75faf5f9d6"
      },
      "source": [
        "test = pd.read_json('/content/drive/My Drive/Colab Notebooks/카카오X멜론 공모전/data/gnr_description/{}.json'.format(test_idx[0]), orient = 'table')\n",
        "test"
      ],
      "execution_count": 71,
      "outputs": [
        {
          "output_type": "execute_result",
          "data": {
            "text/html": [
              "<div>\n",
              "<style scoped>\n",
              "    .dataframe tbody tr th:only-of-type {\n",
              "        vertical-align: middle;\n",
              "    }\n",
              "\n",
              "    .dataframe tbody tr th {\n",
              "        vertical-align: top;\n",
              "    }\n",
              "\n",
              "    .dataframe thead th {\n",
              "        text-align: right;\n",
              "    }\n",
              "</style>\n",
              "<table border=\"1\" class=\"dataframe\">\n",
              "  <thead>\n",
              "    <tr style=\"text-align: right;\">\n",
              "      <th></th>\n",
              "      <th>song_id</th>\n",
              "      <th>gnr_code</th>\n",
              "      <th>description</th>\n",
              "    </tr>\n",
              "  </thead>\n",
              "  <tbody>\n",
              "    <tr>\n",
              "      <th>0</th>\n",
              "      <td>5</td>\n",
              "      <td>GN1700</td>\n",
              "      <td>[['2010', '자라섬', '재즈', '페스티벌', '국내', '아티스트', '...</td>\n",
              "    </tr>\n",
              "    <tr>\n",
              "      <th>1</th>\n",
              "      <td>12</td>\n",
              "      <td>GN1700</td>\n",
              "      <td>[['요즘', '가을밤에', '딱', '어울리는', '빅밴드', '재즈', '재즈'...</td>\n",
              "    </tr>\n",
              "    <tr>\n",
              "      <th>2</th>\n",
              "      <td>38</td>\n",
              "      <td>GN1700</td>\n",
              "      <td>[['띵곡모여라', '장르', '상관', '없는', '명곡', '모음', '띵곡여기...</td>\n",
              "    </tr>\n",
              "    <tr>\n",
              "      <th>3</th>\n",
              "      <td>41</td>\n",
              "      <td>GN1700</td>\n",
              "      <td>[['winter', 'jazz', '재즈'], ['클스', '재즈', '겨울', ...</td>\n",
              "    </tr>\n",
              "    <tr>\n",
              "      <th>4</th>\n",
              "      <td>73</td>\n",
              "      <td>GN1700</td>\n",
              "      <td>[['Gypsy', 'Jazz', 'Collection', '재즈']]</td>\n",
              "    </tr>\n",
              "    <tr>\n",
              "      <th>...</th>\n",
              "      <td>...</td>\n",
              "      <td>...</td>\n",
              "      <td>...</td>\n",
              "    </tr>\n",
              "    <tr>\n",
              "      <th>41503</th>\n",
              "      <td>707811</td>\n",
              "      <td>GN1700</td>\n",
              "      <td>[['재즈', '어렵지', '않아요', '입문용', '음반', 'part', '2'...</td>\n",
              "    </tr>\n",
              "    <tr>\n",
              "      <th>41504</th>\n",
              "      <td>707846</td>\n",
              "      <td>GN1700</td>\n",
              "      <td>[['멍때리기', '좋은', '느낌있는', '재즈음악', '휴식', '힐링', '기...</td>\n",
              "    </tr>\n",
              "    <tr>\n",
              "      <th>41505</th>\n",
              "      <td>707958</td>\n",
              "      <td>GN1700</td>\n",
              "      <td>[['Tigran', 'Hamasyan', '테크닉과', '과감함을', '지닌', ...</td>\n",
              "    </tr>\n",
              "    <tr>\n",
              "      <th>41506</th>\n",
              "      <td>707979</td>\n",
              "      <td>GN1700</td>\n",
              "      <td>[['재즈의', '변절자', '혹은', '재즈', '트렌드의', '선구자', 'He...</td>\n",
              "    </tr>\n",
              "    <tr>\n",
              "      <th>41507</th>\n",
              "      <td>707983</td>\n",
              "      <td>GN1700</td>\n",
              "      <td>[['Van', 'Morrison', '이', '정도면', '재즈하기에', '충분하...</td>\n",
              "    </tr>\n",
              "  </tbody>\n",
              "</table>\n",
              "<p>41508 rows × 3 columns</p>\n",
              "</div>"
            ],
            "text/plain": [
              "      song_id gnr_code                                        description\n",
              "0           5   GN1700  [['2010', '자라섬', '재즈', '페스티벌', '국내', '아티스트', '...\n",
              "1          12   GN1700  [['요즘', '가을밤에', '딱', '어울리는', '빅밴드', '재즈', '재즈'...\n",
              "2          38   GN1700  [['띵곡모여라', '장르', '상관', '없는', '명곡', '모음', '띵곡여기...\n",
              "3          41   GN1700  [['winter', 'jazz', '재즈'], ['클스', '재즈', '겨울', ...\n",
              "4          73   GN1700            [['Gypsy', 'Jazz', 'Collection', '재즈']]\n",
              "...       ...      ...                                                ...\n",
              "41503  707811   GN1700  [['재즈', '어렵지', '않아요', '입문용', '음반', 'part', '2'...\n",
              "41504  707846   GN1700  [['멍때리기', '좋은', '느낌있는', '재즈음악', '휴식', '힐링', '기...\n",
              "41505  707958   GN1700  [['Tigran', 'Hamasyan', '테크닉과', '과감함을', '지닌', ...\n",
              "41506  707979   GN1700  [['재즈의', '변절자', '혹은', '재즈', '트렌드의', '선구자', 'He...\n",
              "41507  707983   GN1700  [['Van', 'Morrison', '이', '정도면', '재즈하기에', '충분하...\n",
              "\n",
              "[41508 rows x 3 columns]"
            ]
          },
          "metadata": {
            "tags": []
          },
          "execution_count": 71
        }
      ]
    },
    {
      "cell_type": "code",
      "metadata": {
        "id": "XBpNz8cON_b1",
        "colab_type": "code",
        "colab": {}
      },
      "source": [
        "indices = pd.Series(test.index, index = test['song_id'])"
      ],
      "execution_count": 73,
      "outputs": []
    },
    {
      "cell_type": "code",
      "metadata": {
        "id": "L0mN6VWgOBLd",
        "colab_type": "code",
        "colab": {}
      },
      "source": [
        "def get_recommendations(song_id, num) :\n",
        "    idx = indices[song_id]\n",
        "    sim_scores = list(enumerate(cosine_sim[idx]))\n",
        "    sim_scores = sorted(sim_scores, key=lambda x: x[1], reverse=True)\n",
        "    sim_scores = sim_scores[1:num]\n",
        "    song_indices = [i[0] for i in sim_scores]\n",
        "    return test.iloc[song_indices][['song_id']]"
      ],
      "execution_count": 72,
      "outputs": []
    },
    {
      "cell_type": "code",
      "metadata": {
        "id": "6f2rTHG_OB9o",
        "colab_type": "code",
        "colab": {
          "base_uri": "https://localhost:8080/",
          "height": 948
        },
        "outputId": "e34bbb9e-f5b8-4356-8179-540c55fa4e3b"
      },
      "source": [
        "# GN1700에 속한 '707983' 곡과 유사한 상위 30개 곡리스트\n",
        "get_recommendations('707983',30)"
      ],
      "execution_count": 74,
      "outputs": [
        {
          "output_type": "execute_result",
          "data": {
            "text/html": [
              "<div>\n",
              "<style scoped>\n",
              "    .dataframe tbody tr th:only-of-type {\n",
              "        vertical-align: middle;\n",
              "    }\n",
              "\n",
              "    .dataframe tbody tr th {\n",
              "        vertical-align: top;\n",
              "    }\n",
              "\n",
              "    .dataframe thead th {\n",
              "        text-align: right;\n",
              "    }\n",
              "</style>\n",
              "<table border=\"1\" class=\"dataframe\">\n",
              "  <thead>\n",
              "    <tr style=\"text-align: right;\">\n",
              "      <th></th>\n",
              "      <th>song_id</th>\n",
              "    </tr>\n",
              "  </thead>\n",
              "  <tbody>\n",
              "    <tr>\n",
              "      <th>3951</th>\n",
              "      <td>67225</td>\n",
              "    </tr>\n",
              "    <tr>\n",
              "      <th>10478</th>\n",
              "      <td>179602</td>\n",
              "    </tr>\n",
              "    <tr>\n",
              "      <th>15920</th>\n",
              "      <td>270117</td>\n",
              "    </tr>\n",
              "    <tr>\n",
              "      <th>16341</th>\n",
              "      <td>276701</td>\n",
              "    </tr>\n",
              "    <tr>\n",
              "      <th>19832</th>\n",
              "      <td>335052</td>\n",
              "    </tr>\n",
              "    <tr>\n",
              "      <th>33349</th>\n",
              "      <td>568193</td>\n",
              "    </tr>\n",
              "    <tr>\n",
              "      <th>41507</th>\n",
              "      <td>707983</td>\n",
              "    </tr>\n",
              "    <tr>\n",
              "      <th>7363</th>\n",
              "      <td>125888</td>\n",
              "    </tr>\n",
              "    <tr>\n",
              "      <th>309</th>\n",
              "      <td>5260</td>\n",
              "    </tr>\n",
              "    <tr>\n",
              "      <th>2017</th>\n",
              "      <td>34282</td>\n",
              "    </tr>\n",
              "    <tr>\n",
              "      <th>2431</th>\n",
              "      <td>41015</td>\n",
              "    </tr>\n",
              "    <tr>\n",
              "      <th>4273</th>\n",
              "      <td>72706</td>\n",
              "    </tr>\n",
              "    <tr>\n",
              "      <th>6759</th>\n",
              "      <td>115361</td>\n",
              "    </tr>\n",
              "    <tr>\n",
              "      <th>6879</th>\n",
              "      <td>117436</td>\n",
              "    </tr>\n",
              "    <tr>\n",
              "      <th>9915</th>\n",
              "      <td>169630</td>\n",
              "    </tr>\n",
              "    <tr>\n",
              "      <th>10235</th>\n",
              "      <td>174783</td>\n",
              "    </tr>\n",
              "    <tr>\n",
              "      <th>10627</th>\n",
              "      <td>182000</td>\n",
              "    </tr>\n",
              "    <tr>\n",
              "      <th>11698</th>\n",
              "      <td>199843</td>\n",
              "    </tr>\n",
              "    <tr>\n",
              "      <th>12733</th>\n",
              "      <td>216882</td>\n",
              "    </tr>\n",
              "    <tr>\n",
              "      <th>13427</th>\n",
              "      <td>229151</td>\n",
              "    </tr>\n",
              "    <tr>\n",
              "      <th>15483</th>\n",
              "      <td>263327</td>\n",
              "    </tr>\n",
              "    <tr>\n",
              "      <th>15697</th>\n",
              "      <td>266709</td>\n",
              "    </tr>\n",
              "    <tr>\n",
              "      <th>16289</th>\n",
              "      <td>275699</td>\n",
              "    </tr>\n",
              "    <tr>\n",
              "      <th>16856</th>\n",
              "      <td>285350</td>\n",
              "    </tr>\n",
              "    <tr>\n",
              "      <th>20240</th>\n",
              "      <td>342476</td>\n",
              "    </tr>\n",
              "    <tr>\n",
              "      <th>21668</th>\n",
              "      <td>367497</td>\n",
              "    </tr>\n",
              "    <tr>\n",
              "      <th>21795</th>\n",
              "      <td>369693</td>\n",
              "    </tr>\n",
              "    <tr>\n",
              "      <th>21906</th>\n",
              "      <td>371319</td>\n",
              "    </tr>\n",
              "    <tr>\n",
              "      <th>26395</th>\n",
              "      <td>449852</td>\n",
              "    </tr>\n",
              "  </tbody>\n",
              "</table>\n",
              "</div>"
            ],
            "text/plain": [
              "      song_id\n",
              "3951    67225\n",
              "10478  179602\n",
              "15920  270117\n",
              "16341  276701\n",
              "19832  335052\n",
              "33349  568193\n",
              "41507  707983\n",
              "7363   125888\n",
              "309      5260\n",
              "2017    34282\n",
              "2431    41015\n",
              "4273    72706\n",
              "6759   115361\n",
              "6879   117436\n",
              "9915   169630\n",
              "10235  174783\n",
              "10627  182000\n",
              "11698  199843\n",
              "12733  216882\n",
              "13427  229151\n",
              "15483  263327\n",
              "15697  266709\n",
              "16289  275699\n",
              "16856  285350\n",
              "20240  342476\n",
              "21668  367497\n",
              "21795  369693\n",
              "21906  371319\n",
              "26395  449852"
            ]
          },
          "metadata": {
            "tags": []
          },
          "execution_count": 74
        }
      ]
    },
    {
      "cell_type": "code",
      "metadata": {
        "id": "1_hgXqKfYk2l",
        "colab_type": "code",
        "colab": {}
      },
      "source": [
        "def gnr_song(plylst_id):\n",
        "    songs = val_train[val_train['id'] == plylst_id]['songs'].tolist()[0] # 해당 playlist에 수록된 곡\n",
        "    test_song = test['song_id'] # 해당 playlist에서 가장 많이 매핑된 장르에 속한 모든 곡\n",
        "    test_song = test_song.values.tolist()\n",
        "    return list(set(test_song) & set(songs)) # 해당 playlist에서 가장 많이 매핑된 장르에 속하는 곡"
      ],
      "execution_count": 76,
      "outputs": []
    },
    {
      "cell_type": "code",
      "metadata": {
        "id": "ss1rEAr4Xxeq",
        "colab_type": "code",
        "colab": {
          "base_uri": "https://localhost:8080/",
          "height": 35
        },
        "outputId": "40863604-3a06-4bc4-9783-e5b25c5a0350"
      },
      "source": [
        "test_song = gnr_song(plylst_id) # '136650'번 playlist에서 가장 많이 매핑된 장르(GN1700)에 속하는 곡\n",
        "test_song"
      ],
      "execution_count": 79,
      "outputs": [
        {
          "output_type": "execute_result",
          "data": {
            "text/plain": [
              "['594472', '568691', '384718', '539802', '296891', '367173']"
            ]
          },
          "metadata": {
            "tags": []
          },
          "execution_count": 79
        }
      ]
    },
    {
      "cell_type": "code",
      "metadata": {
        "id": "LsllJC_pZL5H",
        "colab_type": "code",
        "colab": {
          "base_uri": "https://localhost:8080/",
          "height": 244
        },
        "outputId": "df7330d9-0524-494b-e1be-2e0fae364689"
      },
      "source": [
        "# test_song 리스트의 곡마다 유사곡 상위 100개씩 추출\n",
        "recommend = pd.DataFrame()\n",
        "pd.Series(list(map(lambda x:get_recommendations(x, 100).song_id.values.tolist() ,test_song)))\n",
        "\n",
        "# for i in test_song:\n",
        "#     recommend = recommend.append(get_recommendations(i,100))"
      ],
      "execution_count": 1,
      "outputs": [
        {
          "output_type": "error",
          "ename": "NameError",
          "evalue": "ignored",
          "traceback": [
            "\u001b[0;31m---------------------------------------------------------------------------\u001b[0m",
            "\u001b[0;31mNameError\u001b[0m                                 Traceback (most recent call last)",
            "\u001b[0;32m<ipython-input-1-156fef7e35f6>\u001b[0m in \u001b[0;36m<module>\u001b[0;34m()\u001b[0m\n\u001b[1;32m      1\u001b[0m \u001b[0;31m# test_song 리스트의 곡마다 유사곡 상위 100개씩 추출\u001b[0m\u001b[0;34m\u001b[0m\u001b[0;34m\u001b[0m\u001b[0;34m\u001b[0m\u001b[0m\n\u001b[0;32m----> 2\u001b[0;31m \u001b[0mrecommend\u001b[0m \u001b[0;34m=\u001b[0m \u001b[0mpd\u001b[0m\u001b[0;34m.\u001b[0m\u001b[0mDataFrame\u001b[0m\u001b[0;34m(\u001b[0m\u001b[0;34m)\u001b[0m\u001b[0;34m\u001b[0m\u001b[0;34m\u001b[0m\u001b[0m\n\u001b[0m\u001b[1;32m      3\u001b[0m \u001b[0mpd\u001b[0m\u001b[0;34m.\u001b[0m\u001b[0mSeries\u001b[0m\u001b[0;34m(\u001b[0m\u001b[0mlist\u001b[0m\u001b[0;34m(\u001b[0m\u001b[0mmap\u001b[0m\u001b[0;34m(\u001b[0m\u001b[0;32mlambda\u001b[0m \u001b[0mx\u001b[0m\u001b[0;34m:\u001b[0m\u001b[0mget_recommendations\u001b[0m\u001b[0;34m(\u001b[0m\u001b[0mx\u001b[0m\u001b[0;34m,\u001b[0m \u001b[0;36m100\u001b[0m\u001b[0;34m)\u001b[0m\u001b[0;34m.\u001b[0m\u001b[0msong_id\u001b[0m\u001b[0;34m.\u001b[0m\u001b[0mvalues\u001b[0m\u001b[0;34m.\u001b[0m\u001b[0mtolist\u001b[0m\u001b[0;34m(\u001b[0m\u001b[0;34m)\u001b[0m \u001b[0;34m,\u001b[0m\u001b[0mtest_song\u001b[0m\u001b[0;34m)\u001b[0m\u001b[0;34m)\u001b[0m\u001b[0;34m)\u001b[0m\u001b[0;34m\u001b[0m\u001b[0;34m\u001b[0m\u001b[0m\n\u001b[1;32m      4\u001b[0m \u001b[0;34m\u001b[0m\u001b[0m\n\u001b[1;32m      5\u001b[0m \u001b[0;31m# for i in test_song:\u001b[0m\u001b[0;34m\u001b[0m\u001b[0;34m\u001b[0m\u001b[0;34m\u001b[0m\u001b[0m\n",
            "\u001b[0;31mNameError\u001b[0m: name 'pd' is not defined"
          ]
        }
      ]
    },
    {
      "cell_type": "code",
      "metadata": {
        "id": "kaDjMv8MhKby",
        "colab_type": "code",
        "colab": {
          "base_uri": "https://localhost:8080/",
          "height": 419
        },
        "outputId": "8c33204e-025c-41fe-c9e4-94958690c9dd"
      },
      "source": [
        "recommend = recommend.reset_index()\n",
        "recommend"
      ],
      "execution_count": 82,
      "outputs": [
        {
          "output_type": "execute_result",
          "data": {
            "text/html": [
              "<div>\n",
              "<style scoped>\n",
              "    .dataframe tbody tr th:only-of-type {\n",
              "        vertical-align: middle;\n",
              "    }\n",
              "\n",
              "    .dataframe tbody tr th {\n",
              "        vertical-align: top;\n",
              "    }\n",
              "\n",
              "    .dataframe thead th {\n",
              "        text-align: right;\n",
              "    }\n",
              "</style>\n",
              "<table border=\"1\" class=\"dataframe\">\n",
              "  <thead>\n",
              "    <tr style=\"text-align: right;\">\n",
              "      <th></th>\n",
              "      <th>index</th>\n",
              "      <th>song_id</th>\n",
              "    </tr>\n",
              "  </thead>\n",
              "  <tbody>\n",
              "    <tr>\n",
              "      <th>0</th>\n",
              "      <td>7179</td>\n",
              "      <td>122505</td>\n",
              "    </tr>\n",
              "    <tr>\n",
              "      <th>1</th>\n",
              "      <td>12550</td>\n",
              "      <td>213930</td>\n",
              "    </tr>\n",
              "    <tr>\n",
              "      <th>2</th>\n",
              "      <td>17554</td>\n",
              "      <td>296891</td>\n",
              "    </tr>\n",
              "    <tr>\n",
              "      <th>3</th>\n",
              "      <td>18347</td>\n",
              "      <td>310906</td>\n",
              "    </tr>\n",
              "    <tr>\n",
              "      <th>4</th>\n",
              "      <td>22684</td>\n",
              "      <td>384718</td>\n",
              "    </tr>\n",
              "    <tr>\n",
              "      <th>...</th>\n",
              "      <td>...</td>\n",
              "      <td>...</td>\n",
              "    </tr>\n",
              "    <tr>\n",
              "      <th>589</th>\n",
              "      <td>19686</td>\n",
              "      <td>332750</td>\n",
              "    </tr>\n",
              "    <tr>\n",
              "      <th>590</th>\n",
              "      <td>18551</td>\n",
              "      <td>314183</td>\n",
              "    </tr>\n",
              "    <tr>\n",
              "      <th>591</th>\n",
              "      <td>25180</td>\n",
              "      <td>427980</td>\n",
              "    </tr>\n",
              "    <tr>\n",
              "      <th>592</th>\n",
              "      <td>14041</td>\n",
              "      <td>238808</td>\n",
              "    </tr>\n",
              "    <tr>\n",
              "      <th>593</th>\n",
              "      <td>30751</td>\n",
              "      <td>524162</td>\n",
              "    </tr>\n",
              "  </tbody>\n",
              "</table>\n",
              "<p>594 rows × 2 columns</p>\n",
              "</div>"
            ],
            "text/plain": [
              "     index song_id\n",
              "0     7179  122505\n",
              "1    12550  213930\n",
              "2    17554  296891\n",
              "3    18347  310906\n",
              "4    22684  384718\n",
              "..     ...     ...\n",
              "589  19686  332750\n",
              "590  18551  314183\n",
              "591  25180  427980\n",
              "592  14041  238808\n",
              "593  30751  524162\n",
              "\n",
              "[594 rows x 2 columns]"
            ]
          },
          "metadata": {
            "tags": []
          },
          "execution_count": 82
        }
      ]
    },
    {
      "cell_type": "code",
      "metadata": {
        "id": "B3oq3nMlZR8s",
        "colab_type": "code",
        "colab": {
          "base_uri": "https://localhost:8080/",
          "height": 450
        },
        "outputId": "c61e4e0b-4ff5-473a-8768-a0e74bb49d6d"
      },
      "source": [
        "recommend_cnt = recommend.groupby('song_id').count().rename({'index':'count'})\n",
        "recommend_cnt"
      ],
      "execution_count": 84,
      "outputs": [
        {
          "output_type": "execute_result",
          "data": {
            "text/html": [
              "<div>\n",
              "<style scoped>\n",
              "    .dataframe tbody tr th:only-of-type {\n",
              "        vertical-align: middle;\n",
              "    }\n",
              "\n",
              "    .dataframe tbody tr th {\n",
              "        vertical-align: top;\n",
              "    }\n",
              "\n",
              "    .dataframe thead th {\n",
              "        text-align: right;\n",
              "    }\n",
              "</style>\n",
              "<table border=\"1\" class=\"dataframe\">\n",
              "  <thead>\n",
              "    <tr style=\"text-align: right;\">\n",
              "      <th></th>\n",
              "      <th>index</th>\n",
              "    </tr>\n",
              "    <tr>\n",
              "      <th>song_id</th>\n",
              "      <th></th>\n",
              "    </tr>\n",
              "  </thead>\n",
              "  <tbody>\n",
              "    <tr>\n",
              "      <th>101653</th>\n",
              "      <td>5</td>\n",
              "    </tr>\n",
              "    <tr>\n",
              "      <th>105090</th>\n",
              "      <td>1</td>\n",
              "    </tr>\n",
              "    <tr>\n",
              "      <th>109858</th>\n",
              "      <td>1</td>\n",
              "    </tr>\n",
              "    <tr>\n",
              "      <th>110797</th>\n",
              "      <td>6</td>\n",
              "    </tr>\n",
              "    <tr>\n",
              "      <th>112838</th>\n",
              "      <td>6</td>\n",
              "    </tr>\n",
              "    <tr>\n",
              "      <th>...</th>\n",
              "      <td>...</td>\n",
              "    </tr>\n",
              "    <tr>\n",
              "      <th>76173</th>\n",
              "      <td>6</td>\n",
              "    </tr>\n",
              "    <tr>\n",
              "      <th>7908</th>\n",
              "      <td>5</td>\n",
              "    </tr>\n",
              "    <tr>\n",
              "      <th>80228</th>\n",
              "      <td>5</td>\n",
              "    </tr>\n",
              "    <tr>\n",
              "      <th>80723</th>\n",
              "      <td>1</td>\n",
              "    </tr>\n",
              "    <tr>\n",
              "      <th>91208</th>\n",
              "      <td>5</td>\n",
              "    </tr>\n",
              "  </tbody>\n",
              "</table>\n",
              "<p>168 rows × 1 columns</p>\n",
              "</div>"
            ],
            "text/plain": [
              "         index\n",
              "song_id       \n",
              "101653       5\n",
              "105090       1\n",
              "109858       1\n",
              "110797       6\n",
              "112838       6\n",
              "...        ...\n",
              "76173        6\n",
              "7908         5\n",
              "80228        5\n",
              "80723        1\n",
              "91208        5\n",
              "\n",
              "[168 rows x 1 columns]"
            ]
          },
          "metadata": {
            "tags": []
          },
          "execution_count": 84
        }
      ]
    },
    {
      "cell_type": "code",
      "metadata": {
        "id": "8d6tmrb5dykU",
        "colab_type": "code",
        "colab": {}
      },
      "source": [
        "recommend_cnt = recommend_cnt.sort_values('index',ascending=False)"
      ],
      "execution_count": null,
      "outputs": []
    },
    {
      "cell_type": "code",
      "metadata": {
        "id": "6BMqr3QThnF8",
        "colab_type": "code",
        "colab": {}
      },
      "source": [
        "result_song = recommend_cnt.head(150)"
      ],
      "execution_count": null,
      "outputs": []
    },
    {
      "cell_type": "code",
      "metadata": {
        "id": "hW7rl8v6h-uq",
        "colab_type": "code",
        "colab": {}
      },
      "source": [
        "result_song = result_song.reset_index()"
      ],
      "execution_count": null,
      "outputs": []
    },
    {
      "cell_type": "code",
      "metadata": {
        "id": "EYNwDIs7iWpU",
        "colab_type": "code",
        "colab": {
          "base_uri": "https://localhost:8080/",
          "height": 419
        },
        "outputId": "6f6bd1a2-0264-48ea-a9e2-a550dfde2ae5"
      },
      "source": [
        "result_song"
      ],
      "execution_count": null,
      "outputs": [
        {
          "output_type": "execute_result",
          "data": {
            "text/html": [
              "<div>\n",
              "<style scoped>\n",
              "    .dataframe tbody tr th:only-of-type {\n",
              "        vertical-align: middle;\n",
              "    }\n",
              "\n",
              "    .dataframe tbody tr th {\n",
              "        vertical-align: top;\n",
              "    }\n",
              "\n",
              "    .dataframe thead th {\n",
              "        text-align: right;\n",
              "    }\n",
              "</style>\n",
              "<table border=\"1\" class=\"dataframe\">\n",
              "  <thead>\n",
              "    <tr style=\"text-align: right;\">\n",
              "      <th></th>\n",
              "      <th>song_id</th>\n",
              "      <th>index</th>\n",
              "    </tr>\n",
              "  </thead>\n",
              "  <tbody>\n",
              "    <tr>\n",
              "      <th>0</th>\n",
              "      <td>567438</td>\n",
              "      <td>4</td>\n",
              "    </tr>\n",
              "    <tr>\n",
              "      <th>1</th>\n",
              "      <td>213364</td>\n",
              "      <td>4</td>\n",
              "    </tr>\n",
              "    <tr>\n",
              "      <th>2</th>\n",
              "      <td>4706</td>\n",
              "      <td>4</td>\n",
              "    </tr>\n",
              "    <tr>\n",
              "      <th>3</th>\n",
              "      <td>608505</td>\n",
              "      <td>4</td>\n",
              "    </tr>\n",
              "    <tr>\n",
              "      <th>4</th>\n",
              "      <td>135506</td>\n",
              "      <td>3</td>\n",
              "    </tr>\n",
              "    <tr>\n",
              "      <th>...</th>\n",
              "      <td>...</td>\n",
              "      <td>...</td>\n",
              "    </tr>\n",
              "    <tr>\n",
              "      <th>145</th>\n",
              "      <td>563453</td>\n",
              "      <td>1</td>\n",
              "    </tr>\n",
              "    <tr>\n",
              "      <th>146</th>\n",
              "      <td>561695</td>\n",
              "      <td>1</td>\n",
              "    </tr>\n",
              "    <tr>\n",
              "      <th>147</th>\n",
              "      <td>562041</td>\n",
              "      <td>1</td>\n",
              "    </tr>\n",
              "    <tr>\n",
              "      <th>148</th>\n",
              "      <td>526953</td>\n",
              "      <td>1</td>\n",
              "    </tr>\n",
              "    <tr>\n",
              "      <th>149</th>\n",
              "      <td>540634</td>\n",
              "      <td>1</td>\n",
              "    </tr>\n",
              "  </tbody>\n",
              "</table>\n",
              "<p>150 rows × 2 columns</p>\n",
              "</div>"
            ],
            "text/plain": [
              "    song_id  index\n",
              "0    567438      4\n",
              "1    213364      4\n",
              "2      4706      4\n",
              "3    608505      4\n",
              "4    135506      3\n",
              "..      ...    ...\n",
              "145  563453      1\n",
              "146  561695      1\n",
              "147  562041      1\n",
              "148  526953      1\n",
              "149  540634      1\n",
              "\n",
              "[150 rows x 2 columns]"
            ]
          },
          "metadata": {
            "tags": []
          },
          "execution_count": 39
        }
      ]
    },
    {
      "cell_type": "code",
      "metadata": {
        "id": "E5WcyNmpiXr-",
        "colab_type": "code",
        "colab": {}
      },
      "source": [
        "result_songs = result_song['song_id'].tolist()"
      ],
      "execution_count": null,
      "outputs": []
    },
    {
      "cell_type": "code",
      "metadata": {
        "id": "EXwYZD2xi1NM",
        "colab_type": "code",
        "colab": {
          "base_uri": "https://localhost:8080/",
          "height": 1000
        },
        "outputId": "9907f19c-56db-4faf-f9c0-8d0d469afb40"
      },
      "source": [
        "result_songs"
      ],
      "execution_count": null,
      "outputs": [
        {
          "output_type": "execute_result",
          "data": {
            "text/plain": [
              "['567438',\n",
              " '213364',\n",
              " '4706',\n",
              " '608505',\n",
              " '135506',\n",
              " '258646',\n",
              " '72002',\n",
              " '543606',\n",
              " '381874',\n",
              " '541434',\n",
              " '320827',\n",
              " '274504',\n",
              " '677277',\n",
              " '419278',\n",
              " '159366',\n",
              " '177414',\n",
              " '427021',\n",
              " '213289',\n",
              " '168031',\n",
              " '457552',\n",
              " '348089',\n",
              " '481160',\n",
              " '284111',\n",
              " '2748',\n",
              " '58704',\n",
              " '397222',\n",
              " '20403',\n",
              " '203660',\n",
              " '411150',\n",
              " '615235',\n",
              " '678161',\n",
              " '191782',\n",
              " '286829',\n",
              " '191620',\n",
              " '518636',\n",
              " '517472',\n",
              " '298949',\n",
              " '681346',\n",
              " '333595',\n",
              " '176435',\n",
              " '175720',\n",
              " '591699',\n",
              " '616347',\n",
              " '227306',\n",
              " '619381',\n",
              " '223540',\n",
              " '268645',\n",
              " '2666',\n",
              " '567766',\n",
              " '630941',\n",
              " '62174',\n",
              " '27885',\n",
              " '642487',\n",
              " '376435',\n",
              " '243719',\n",
              " '643643',\n",
              " '173533',\n",
              " '551757',\n",
              " '548304',\n",
              " '381331',\n",
              " '22907',\n",
              " '542315',\n",
              " '623145',\n",
              " '555624',\n",
              " '99193',\n",
              " '74920',\n",
              " '696973',\n",
              " '146989',\n",
              " '146668',\n",
              " '703985',\n",
              " '502335',\n",
              " '441558',\n",
              " '444194',\n",
              " '137421',\n",
              " '44782',\n",
              " '510395',\n",
              " '44842',\n",
              " '8153',\n",
              " '452185',\n",
              " '458311',\n",
              " '106500',\n",
              " '477206',\n",
              " '699953',\n",
              " '66416',\n",
              " '696317',\n",
              " '166076',\n",
              " '507711',\n",
              " '485748',\n",
              " '481694',\n",
              " '482563',\n",
              " '579604',\n",
              " '577877',\n",
              " '483962',\n",
              " '484934',\n",
              " '572758',\n",
              " '508719',\n",
              " '484991',\n",
              " '572456',\n",
              " '571259',\n",
              " '571049',\n",
              " '504906',\n",
              " '581080',\n",
              " '570811',\n",
              " '56981',\n",
              " '488425',\n",
              " '568594',\n",
              " '488946',\n",
              " '490746',\n",
              " '491979',\n",
              " '566472',\n",
              " '492874',\n",
              " '565696',\n",
              " '564989',\n",
              " '564936',\n",
              " '571016',\n",
              " '581166',\n",
              " '562760',\n",
              " '509591',\n",
              " '595089',\n",
              " '594784',\n",
              " '594515',\n",
              " '594442',\n",
              " '59441',\n",
              " '59290',\n",
              " '591973',\n",
              " '476132',\n",
              " '513452',\n",
              " '589871',\n",
              " '588885',\n",
              " '515625',\n",
              " '588750',\n",
              " '58828',\n",
              " '588166',\n",
              " '478928',\n",
              " '587996',\n",
              " '587390',\n",
              " '587188',\n",
              " '479371',\n",
              " '58655',\n",
              " '585272',\n",
              " '479747',\n",
              " '480533',\n",
              " '584074',\n",
              " '583327',\n",
              " '48093',\n",
              " '563453',\n",
              " '561695',\n",
              " '562041',\n",
              " '526953',\n",
              " '540634']"
            ]
          },
          "metadata": {
            "tags": []
          },
          "execution_count": 41
        }
      ]
    },
    {
      "cell_type": "code",
      "metadata": {
        "id": "3RMHu1eQi_Aq",
        "colab_type": "code",
        "colab": {}
      },
      "source": [
        "result = list(set(result_songs)-set(test_pass))[0:100]"
      ],
      "execution_count": null,
      "outputs": []
    },
    {
      "cell_type": "code",
      "metadata": {
        "id": "OJm5PdijjaM7",
        "colab_type": "code",
        "colab": {
          "base_uri": "https://localhost:8080/",
          "height": 34
        },
        "outputId": "a8cde570-9da0-4cf2-fe18-5ed58583229c"
      },
      "source": [
        "len(result)"
      ],
      "execution_count": null,
      "outputs": [
        {
          "output_type": "execute_result",
          "data": {
            "text/plain": [
              "100"
            ]
          },
          "metadata": {
            "tags": []
          },
          "execution_count": 43
        }
      ]
    },
    {
      "cell_type": "code",
      "metadata": {
        "id": "W9P1wuL2jxVE",
        "colab_type": "code",
        "colab": {
          "base_uri": "https://localhost:8080/",
          "height": 1000
        },
        "outputId": "f76c6c5d-3c7e-4e06-f0f0-f07534801b84"
      },
      "source": [
        "result"
      ],
      "execution_count": null,
      "outputs": [
        {
          "output_type": "execute_result",
          "data": {
            "text/plain": [
              "['483962',\n",
              " '696973',\n",
              " '567766',\n",
              " '588750',\n",
              " '58704',\n",
              " '542315',\n",
              " '681346',\n",
              " '587390',\n",
              " '175720',\n",
              " '484934',\n",
              " '480533',\n",
              " '223540',\n",
              " '476132',\n",
              " '540634',\n",
              " '284111',\n",
              " '2748',\n",
              " '488425',\n",
              " '62174',\n",
              " '561695',\n",
              " '166076',\n",
              " '566472',\n",
              " '381874',\n",
              " '696317',\n",
              " '479747',\n",
              " '20403',\n",
              " '58655',\n",
              " '541434',\n",
              " '159366',\n",
              " '623145',\n",
              " '427021',\n",
              " '59441',\n",
              " '56981',\n",
              " '227306',\n",
              " '588885',\n",
              " '563453',\n",
              " '526953',\n",
              " '583327',\n",
              " '66416',\n",
              " '444194',\n",
              " '591973',\n",
              " '27885',\n",
              " '411150',\n",
              " '243719',\n",
              " '589871',\n",
              " '564936',\n",
              " '457552',\n",
              " '59290',\n",
              " '608505',\n",
              " '581080',\n",
              " '481160',\n",
              " '44782',\n",
              " '58828',\n",
              " '191620',\n",
              " '504906',\n",
              " '565696',\n",
              " '397222',\n",
              " '551757',\n",
              " '594784',\n",
              " '452185',\n",
              " '348089',\n",
              " '642487',\n",
              " '48093',\n",
              " '191782',\n",
              " '508719',\n",
              " '548304',\n",
              " '419278',\n",
              " '699953',\n",
              " '482563',\n",
              " '173533',\n",
              " '286829',\n",
              " '381331',\n",
              " '274504',\n",
              " '515625',\n",
              " '587188',\n",
              " '510395',\n",
              " '678161',\n",
              " '146668',\n",
              " '176435',\n",
              " '106500',\n",
              " '213364',\n",
              " '562041',\n",
              " '44842',\n",
              " '488946',\n",
              " '492874',\n",
              " '572456',\n",
              " '571016',\n",
              " '643643',\n",
              " '518636',\n",
              " '484991',\n",
              " '135506',\n",
              " '490746',\n",
              " '213289',\n",
              " '619381',\n",
              " '594515',\n",
              " '579604',\n",
              " '458311',\n",
              " '376435',\n",
              " '567438',\n",
              " '570811',\n",
              " '8153']"
            ]
          },
          "metadata": {
            "tags": []
          },
          "execution_count": 44
        }
      ]
    },
    {
      "cell_type": "code",
      "metadata": {
        "id": "5TCSH-lfkKq-",
        "colab_type": "code",
        "colab": {}
      },
      "source": [
        ""
      ],
      "execution_count": null,
      "outputs": []
    }
  ]
}